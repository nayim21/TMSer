{
 "cells": [
  {
   "cell_type": "code",
   "execution_count": 1,
   "id": "9d108c0e",
   "metadata": {},
   "outputs": [],
   "source": [
    "import pandas as pd\n",
    "import torch\n",
    "import torch.nn as nn\n",
    "from torch.utils.data import Dataset , DataLoader\n",
    "df = pd.read_csv(r\"D:\\dataset\\nsq.csv\")"
   ]
  },
  {
   "cell_type": "code",
   "execution_count": 2,
   "id": "5c08fc00",
   "metadata": {},
   "outputs": [
    {
     "data": {
      "text/html": [
       "<div>\n",
       "<style scoped>\n",
       "    .dataframe tbody tr th:only-of-type {\n",
       "        vertical-align: middle;\n",
       "    }\n",
       "\n",
       "    .dataframe tbody tr th {\n",
       "        vertical-align: top;\n",
       "    }\n",
       "\n",
       "    .dataframe thead th {\n",
       "        text-align: right;\n",
       "    }\n",
       "</style>\n",
       "<table border=\"1\" class=\"dataframe\">\n",
       "  <thead>\n",
       "    <tr style=\"text-align: right;\">\n",
       "      <th></th>\n",
       "      <th>Date</th>\n",
       "      <th>Volume</th>\n",
       "    </tr>\n",
       "  </thead>\n",
       "  <tbody>\n",
       "    <tr>\n",
       "      <th>0</th>\n",
       "      <td>1/2/1990</td>\n",
       "      <td>110720000.0</td>\n",
       "    </tr>\n",
       "    <tr>\n",
       "      <th>1</th>\n",
       "      <td>1/3/1990</td>\n",
       "      <td>152660000.0</td>\n",
       "    </tr>\n",
       "    <tr>\n",
       "      <th>2</th>\n",
       "      <td>1/4/1990</td>\n",
       "      <td>147950000.0</td>\n",
       "    </tr>\n",
       "    <tr>\n",
       "      <th>3</th>\n",
       "      <td>1/5/1990</td>\n",
       "      <td>137230000.0</td>\n",
       "    </tr>\n",
       "    <tr>\n",
       "      <th>4</th>\n",
       "      <td>1/8/1990</td>\n",
       "      <td>115500000.0</td>\n",
       "    </tr>\n",
       "  </tbody>\n",
       "</table>\n",
       "</div>"
      ],
      "text/plain": [
       "       Date       Volume\n",
       "0  1/2/1990  110720000.0\n",
       "1  1/3/1990  152660000.0\n",
       "2  1/4/1990  147950000.0\n",
       "3  1/5/1990  137230000.0\n",
       "4  1/8/1990  115500000.0"
      ]
     },
     "execution_count": 2,
     "metadata": {},
     "output_type": "execute_result"
    }
   ],
   "source": [
    "df.head()"
   ]
  },
  {
   "cell_type": "code",
   "execution_count": 3,
   "id": "6380fd82",
   "metadata": {},
   "outputs": [
    {
     "data": {
      "text/plain": [
       "[<matplotlib.lines.Line2D at 0x1618530e550>]"
      ]
     },
     "execution_count": 3,
     "metadata": {},
     "output_type": "execute_result"
    },
    {
     "data": {
      "image/png": "[encoded data removed]",
      "text/plain": [
       "<Figure size 432x288 with 1 Axes>"
      ]
     },
     "metadata": {
      "needs_background": "light"
     },
     "output_type": "display_data"
    }
   ],
   "source": [
    "import matplotlib.pyplot as plt\n",
    "plt.plot(df['Volume'])"
   ]
  },
  {
   "cell_type": "code",
   "execution_count": 4,
   "id": "33c3df4f",
   "metadata": {},
   "outputs": [],
   "source": [
    "import numpy as np\n",
    "from sklearn.preprocessing import MinMaxScaler\n",
    "df=df.dropna(axis=0,how='any')\n",
    "df1=df['Volume']\n",
    "scalar = MinMaxScaler(feature_range=(0,1))\n",
    "df1 = scalar.fit_transform(np.array(df1).reshape(-1,1))"
   ]
  },
  {
   "cell_type": "code",
   "execution_count": 22,
   "id": "78e5fa97",
   "metadata": {},
   "outputs": [
    {
     "data": {
      "text/plain": [
       "array([[0.00601468],\n",
       "       [0.00980742],\n",
       "       [0.00938149],\n",
       "       ...,\n",
       "       [0.46031498],\n",
       "       [0.42083026],\n",
       "       [0.39797973]])"
      ]
     },
     "execution_count": 22,
     "metadata": {},
     "output_type": "execute_result"
    }
   ],
   "source": [
    "df1"
   ]
  },
  {
   "cell_type": "code",
   "execution_count": 23,
   "id": "4cde7514",
   "metadata": {},
   "outputs": [
    {
     "name": "stdout",
     "output_type": "stream",
     "text": [
      "(8249, 1)\n"
     ]
    }
   ],
   "source": [
    "print(df1.shape)"
   ]
  },
  {
   "cell_type": "code",
   "execution_count": 24,
   "id": "6add1a4f",
   "metadata": {},
   "outputs": [],
   "source": [
    "training_size=int(len(df1)*0.65)\n",
    "test_size=len(df1)-training_size\n",
    "train_data,test_data=df1[0:training_size,:],df1[training_size:len(df1),:1]"
   ]
  },
  {
   "cell_type": "code",
   "execution_count": 25,
   "id": "c49a94f0",
   "metadata": {},
   "outputs": [],
   "source": [
    "class StockDataset(Dataset):\n",
    "    def __init__(self,data,seq_len = 100):\n",
    "        self.data = data\n",
    "        self.data = torch.from_numpy(data).float().view(-1)\n",
    "        self.seq_len = seq_len\n",
    "        \n",
    "    def __len__(self):\n",
    "        return len(self.data)-self.seq_len-1\n",
    "\n",
    "    def __getitem__(self, index) :\n",
    "        return  self.data[index : index+self.seq_len] , self.data[index+self.seq_len]\n",
    "\n",
    "\n",
    "train_dataset = StockDataset(train_data) \n",
    "test_dataset = StockDataset(test_data) "
   ]
  },
  {
   "cell_type": "code",
   "execution_count": 26,
   "id": "d329ccdd",
   "metadata": {},
   "outputs": [],
   "source": [
    "batch_size = 64\n",
    "train_dataloader = DataLoader(train_dataset,batch_size,drop_last=True)\n",
    "test_dataloader = DataLoader(test_dataset,batch_size , drop_last=True)\n",
    "\n",
    "device = \"cuda\" if torch.cuda.is_available() else \"cpu\""
   ]
  },
  {
   "cell_type": "code",
   "execution_count": 27,
   "id": "c77ee319",
   "metadata": {},
   "outputs": [],
   "source": [
    "class Lstm_model(nn.Module):\n",
    "    def __init__(self, input_dim , hidden_size , num_layers):\n",
    "        super(Lstm_model, self).__init__()\n",
    "        self.num_layers = num_layers\n",
    "        self.input_size = input_dim\n",
    "        self.hidden_size = hidden_size\n",
    "        self.lstm = nn.LSTM(input_size=input_dim , hidden_size = hidden_size , num_layers= num_layers )\n",
    "        self.fc = nn.Linear(hidden_size,1)\n",
    "\n",
    "    def forward(self,x,hn,cn):\n",
    "        out , (hn,cn) = self.lstm(x , (hn,cn))\n",
    "        final_out = self.fc(out[-1])\n",
    "        return final_out,hn,cn\n",
    "\n",
    "    def predict(self,x):\n",
    "        hn,cn  = self.init()\n",
    "        final_out = self.fc(out[-1])\n",
    "        return final_out\n",
    "\n",
    "    def init(self):\n",
    "        h0 =  torch.zeros(self.num_layers , batch_size , self.hidden_size).to(device)\n",
    "        c0 =  torch.zeros(self.num_layers , batch_size , self.hidden_size).to(device)\n",
    "        return h0 , c0\n",
    "\n",
    "\n",
    "input_dim = 1 \n",
    "hidden_size = 50\n",
    "num_layers = 4\n",
    "\n",
    "model = Lstm_model(input_dim , hidden_size , num_layers).to(device)"
   ]
  },
  {
   "cell_type": "code",
   "execution_count": 28,
   "id": "4d49b60f",
   "metadata": {},
   "outputs": [],
   "source": [
    "loss_fn = nn.MSELoss()\n",
    "optimizer = torch.optim.Adam(model.parameters(), lr=1e-3)"
   ]
  },
  {
   "cell_type": "code",
   "execution_count": 29,
   "id": "a52ccf36",
   "metadata": {},
   "outputs": [],
   "source": [
    "def train(dataloader):\n",
    "    hn , cn = model.init()\n",
    "    model.train()\n",
    "    for batch , item in enumerate(dataloader):\n",
    "        x , y = item\n",
    "        x = x.to(device)\n",
    "        y = y.to(device)\n",
    "        out , hn , cn = model(x.reshape(100,batch_size,1),hn,cn)\n",
    "        loss = loss_fn(out.reshape(batch_size) , y)\n",
    "        hn = hn.detach()\n",
    "        cn = cn.detach()\n",
    "        optimizer.zero_grad()\n",
    "        loss.backward()\n",
    "        optimizer.step()\n",
    "        \n",
    "        if batch == len(dataloader)-1:\n",
    "            loss = loss.item()\n",
    "            print(f\"train loss: {loss:>7f} \")"
   ]
  },
  {
   "cell_type": "code",
   "execution_count": 30,
   "id": "57f4473a",
   "metadata": {},
   "outputs": [],
   "source": [
    "def test(dataloader):\n",
    "    hn , cn = model.init()\n",
    "    model.eval()\n",
    "    for batch , item in enumerate(dataloader):\n",
    "        x , y = item\n",
    "        x = x.to(device)\n",
    "        y = y.to(device)\n",
    "        out , hn , cn = model(x.reshape(100,batch_size,1),hn,cn)\n",
    "        loss = loss_fn(out.reshape(batch_size) , y)\n",
    "       \n",
    "        if batch == len(dataloader)-1:\n",
    "            loss = loss.item()\n",
    "            print(f\"test loss: {loss:>7f} \")"
   ]
  },
  {
   "cell_type": "code",
   "execution_count": 31,
   "id": "4f15e2e5",
   "metadata": {},
   "outputs": [
    {
     "name": "stdout",
     "output_type": "stream",
     "text": [
      "epoch 0 \n",
      "train loss: 0.001598 \n",
      "test loss: 0.077265 \n",
      "epoch 1 \n",
      "train loss: 0.001114 \n",
      "test loss: 0.084107 \n",
      "epoch 2 \n",
      "train loss: 0.003016 \n",
      "test loss: 0.065680 \n",
      "epoch 3 \n",
      "train loss: 0.001412 \n",
      "test loss: 0.077503 \n",
      "epoch 4 \n",
      "train loss: 0.002677 \n",
      "test loss: 0.069402 \n",
      "epoch 5 \n",
      "train loss: 0.001562 \n",
      "test loss: 0.071961 \n",
      "epoch 6 \n",
      "train loss: 0.001119 \n",
      "test loss: 0.094964 \n",
      "epoch 7 \n",
      "train loss: 0.001653 \n",
      "test loss: 0.103204 \n",
      "epoch 8 \n",
      "train loss: 0.001951 \n",
      "test loss: 0.106644 \n",
      "epoch 9 \n",
      "train loss: 0.002002 \n",
      "test loss: 0.107134 \n",
      "epoch 10 \n",
      "train loss: 0.002136 \n",
      "test loss: 0.108491 \n",
      "epoch 11 \n",
      "train loss: 0.002260 \n",
      "test loss: 0.109671 \n",
      "epoch 12 \n",
      "train loss: 0.002318 \n",
      "test loss: 0.110180 \n",
      "epoch 13 \n",
      "train loss: 0.002323 \n",
      "test loss: 0.110231 \n",
      "epoch 14 \n",
      "train loss: 0.002153 \n",
      "test loss: 0.108478 \n",
      "epoch 15 \n",
      "train loss: 0.001982 \n",
      "test loss: 0.106753 \n",
      "epoch 16 \n",
      "train loss: 0.002256 \n",
      "test loss: 0.109450 \n",
      "epoch 17 \n",
      "train loss: 0.002427 \n",
      "test loss: 0.111046 \n",
      "epoch 18 \n",
      "train loss: 0.002379 \n",
      "test loss: 0.110643 \n",
      "epoch 19 \n",
      "train loss: 0.002427 \n",
      "test loss: 0.111022 \n",
      "epoch 20 \n",
      "train loss: 0.002516 \n",
      "test loss: 0.111829 \n",
      "epoch 21 \n",
      "train loss: 0.002299 \n",
      "test loss: 0.109813 \n",
      "epoch 22 \n",
      "train loss: 0.002295 \n",
      "test loss: 0.109708 \n",
      "epoch 23 \n",
      "train loss: 0.002571 \n",
      "test loss: 0.112281 \n",
      "epoch 24 \n",
      "train loss: 0.002571 \n",
      "test loss: 0.112279 \n",
      "epoch 25 \n",
      "train loss: 0.002544 \n",
      "test loss: 0.111943 \n",
      "epoch 26 \n",
      "train loss: 0.002554 \n",
      "test loss: 0.112236 \n",
      "epoch 27 \n",
      "train loss: 0.002687 \n",
      "test loss: 0.113186 \n",
      "epoch 28 \n",
      "train loss: 0.002843 \n",
      "test loss: 0.114571 \n",
      "epoch 29 \n",
      "train loss: 0.002786 \n",
      "test loss: 0.114039 \n",
      "epoch 30 \n",
      "train loss: 0.002994 \n",
      "test loss: 0.072216 \n",
      "epoch 31 \n",
      "train loss: 0.001601 \n",
      "test loss: 0.077287 \n",
      "epoch 32 \n",
      "train loss: 0.001559 \n",
      "test loss: 0.070651 \n",
      "epoch 33 \n",
      "train loss: 0.002765 \n",
      "test loss: 0.112973 \n",
      "epoch 34 \n",
      "train loss: 0.003444 \n",
      "test loss: 0.119096 \n",
      "epoch 35 \n",
      "train loss: 0.003350 \n",
      "test loss: 0.118562 \n",
      "epoch 36 \n",
      "train loss: 0.003328 \n",
      "test loss: 0.118436 \n",
      "epoch 37 \n",
      "train loss: 0.003320 \n",
      "test loss: 0.118386 \n",
      "epoch 38 \n",
      "train loss: 0.003282 \n",
      "test loss: 0.118093 \n",
      "epoch 39 \n",
      "train loss: 0.003259 \n",
      "test loss: 0.117916 \n",
      "epoch 40 \n",
      "train loss: 0.003324 \n",
      "test loss: 0.118413 \n",
      "epoch 41 \n",
      "train loss: 0.003335 \n",
      "test loss: 0.118489 \n",
      "epoch 42 \n",
      "train loss: 0.003316 \n",
      "test loss: 0.118348 \n",
      "epoch 43 \n",
      "train loss: 0.003295 \n",
      "test loss: 0.118188 \n",
      "epoch 44 \n",
      "train loss: 0.003288 \n",
      "test loss: 0.118136 \n",
      "epoch 45 \n",
      "train loss: 0.003291 \n",
      "test loss: 0.118150 \n",
      "epoch 46 \n",
      "train loss: 0.003235 \n",
      "test loss: 0.117713 \n",
      "epoch 47 \n",
      "train loss: 0.003183 \n",
      "test loss: 0.117314 \n",
      "epoch 48 \n",
      "train loss: 0.003184 \n",
      "test loss: 0.117308 \n",
      "epoch 49 \n",
      "train loss: 0.003170 \n",
      "test loss: 0.117201 \n"
     ]
    }
   ],
   "source": [
    "epochs = 50\n",
    "for epoch in range(epochs):\n",
    "    print(f\"epoch {epoch} \")\n",
    "    train(train_dataloader)\n",
    "    test(test_dataloader)"
   ]
  },
  {
   "cell_type": "code",
   "execution_count": 32,
   "id": "ca769d65",
   "metadata": {},
   "outputs": [],
   "source": [
    "import math\n",
    "from sklearn.metrics import mean_squared_error\n",
    "import numpy as np\n",
    "def calculate_metrics(data_loader):\n",
    "    pred_arr = []\n",
    "    y_arr = []\n",
    "    with torch.no_grad():\n",
    "        hn , cn = model.init()\n",
    "        for batch , item in enumerate(data_loader):\n",
    "            x , y = item\n",
    "            x , y = x.to(device) , y.to(device)\n",
    "            x = x.view(100,64,1)\n",
    "            pred = model(x,hn,cn)[0]\n",
    "            pred = scalar.inverse_transform(pred.detach().cpu().numpy()).reshape(-1)\n",
    "            y = scalar.inverse_transform(y.detach().cpu().numpy().reshape(1,-1)).reshape(-1)\n",
    "            pred_arr = pred_arr + list(pred)\n",
    "            y_arr = y_arr + list(y)\n",
    "        print(pred_arr[130],y_arr[130])\n",
    "        return math.sqrt(mean_squared_error(y_arr,pred_arr))"
   ]
  },
  {
   "cell_type": "code",
   "execution_count": 33,
   "id": "a3d161f7",
   "metadata": {},
   "outputs": [
    {
     "name": "stdout",
     "output_type": "stream",
     "text": [
      "1431039700.0 128590000.0\n",
      "train mse loss 837788601.1788572\n",
      "1431042700.0 1589360000.0\n",
      "test mse loss 1766081774.09026\n"
     ]
    }
   ],
   "source": [
    "# calculating final loss metrics\n",
    "print(f\"train mse loss {calculate_metrics(train_dataloader)}\")\n",
    "print(f\"test mse loss {calculate_metrics(test_dataloader)}\")"
   ]
  },
  {
   "cell_type": "code",
   "execution_count": 8,
   "id": "c7ec09ea",
   "metadata": {},
   "outputs": [
    {
     "data": {
      "text/plain": [
       "0.09961072381335884"
      ]
     },
     "execution_count": 8,
     "metadata": {},
     "output_type": "execute_result"
    }
   ],
   "source": [
    "(1589360000.0 - 1431042700.0)/1589360000\n"
   ]
  }
 ],
 "metadata": {
  "kernelspec": {
   "display_name": "Python 3 (ipykernel)",
   "language": "python",
   "name": "python3"
  },
  "language_info": {
   "codemirror_mode": {
    "name": "ipython",
    "version": 3
   },
   "file_extension": ".py",
   "mimetype": "text/x-python",
   "name": "python",
   "nbconvert_exporter": "python",
   "pygments_lexer": "ipython3",
   "version": "3.9.13"
  }
 },
 "nbformat": 4,
 "nbformat_minor": 5
}
