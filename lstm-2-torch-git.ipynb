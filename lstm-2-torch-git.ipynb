{
 "cells": [
  {
   "cell_type": "code",
   "execution_count": 5,
   "id": "9d108c0e",
   "metadata": {},
   "outputs": [],
   "source": [
    "import pandas as pd\n",
    "import torch\n",
    "import torch.nn as nn\n",
    "from torch.utils.data import Dataset , DataLoader\n",
    "df = pd.read_csv(r'D:/dataset/Nasdq.csv')"
   ]
  },
  {
   "cell_type": "code",
   "execution_count": 6,
   "id": "5c08fc00",
   "metadata": {},
   "outputs": [
    {
     "data": {
      "text/html": [
       "<div>\n",
       "<style scoped>\n",
       "    .dataframe tbody tr th:only-of-type {\n",
       "        vertical-align: middle;\n",
       "    }\n",
       "\n",
       "    .dataframe tbody tr th {\n",
       "        vertical-align: top;\n",
       "    }\n",
       "\n",
       "    .dataframe thead th {\n",
       "        text-align: right;\n",
       "    }\n",
       "</style>\n",
       "<table border=\"1\" class=\"dataframe\">\n",
       "  <thead>\n",
       "    <tr style=\"text-align: right;\">\n",
       "      <th></th>\n",
       "      <th>Date</th>\n",
       "      <th>Open</th>\n",
       "      <th>High</th>\n",
       "      <th>Low</th>\n",
       "      <th>Close</th>\n",
       "      <th>Volume</th>\n",
       "    </tr>\n",
       "  </thead>\n",
       "  <tbody>\n",
       "    <tr>\n",
       "      <th>0</th>\n",
       "      <td>1/2/1990</td>\n",
       "      <td>452.899994</td>\n",
       "      <td>459.299988</td>\n",
       "      <td>452.700012</td>\n",
       "      <td>459.299988</td>\n",
       "      <td>110720000.0</td>\n",
       "    </tr>\n",
       "    <tr>\n",
       "      <th>1</th>\n",
       "      <td>1/3/1990</td>\n",
       "      <td>461.100006</td>\n",
       "      <td>461.600006</td>\n",
       "      <td>460.000000</td>\n",
       "      <td>460.899994</td>\n",
       "      <td>152660000.0</td>\n",
       "    </tr>\n",
       "    <tr>\n",
       "      <th>2</th>\n",
       "      <td>1/4/1990</td>\n",
       "      <td>460.399994</td>\n",
       "      <td>460.799988</td>\n",
       "      <td>456.899994</td>\n",
       "      <td>459.399994</td>\n",
       "      <td>147950000.0</td>\n",
       "    </tr>\n",
       "    <tr>\n",
       "      <th>3</th>\n",
       "      <td>1/5/1990</td>\n",
       "      <td>457.899994</td>\n",
       "      <td>459.399994</td>\n",
       "      <td>457.799988</td>\n",
       "      <td>458.200012</td>\n",
       "      <td>137230000.0</td>\n",
       "    </tr>\n",
       "    <tr>\n",
       "      <th>4</th>\n",
       "      <td>1/8/1990</td>\n",
       "      <td>457.100006</td>\n",
       "      <td>458.700012</td>\n",
       "      <td>456.500000</td>\n",
       "      <td>458.700012</td>\n",
       "      <td>115500000.0</td>\n",
       "    </tr>\n",
       "  </tbody>\n",
       "</table>\n",
       "</div>"
      ],
      "text/plain": [
       "       Date        Open        High         Low       Close       Volume\n",
       "0  1/2/1990  452.899994  459.299988  452.700012  459.299988  110720000.0\n",
       "1  1/3/1990  461.100006  461.600006  460.000000  460.899994  152660000.0\n",
       "2  1/4/1990  460.399994  460.799988  456.899994  459.399994  147950000.0\n",
       "3  1/5/1990  457.899994  459.399994  457.799988  458.200012  137230000.0\n",
       "4  1/8/1990  457.100006  458.700012  456.500000  458.700012  115500000.0"
      ]
     },
     "execution_count": 6,
     "metadata": {},
     "output_type": "execute_result"
    }
   ],
   "source": [
    "df.head()"
   ]
  },
  {
   "cell_type": "code",
   "execution_count": 20,
   "id": "cd9f13e1",
   "metadata": {},
   "outputs": [
    {
     "name": "stdout",
     "output_type": "stream",
     "text": [
      "<class 'pandas.core.frame.DataFrame'>\n",
      "Int64Index: 7812 entries, 0 to 7811\n",
      "Data columns (total 6 columns):\n",
      " #   Column  Non-Null Count  Dtype         \n",
      "---  ------  --------------  -----         \n",
      " 0   Date    7812 non-null   datetime64[ns]\n",
      " 1   Open    7812 non-null   float64       \n",
      " 2   High    7812 non-null   float64       \n",
      " 3   Low     7812 non-null   float64       \n",
      " 4   Close   7812 non-null   float64       \n",
      " 5   Volume  7812 non-null   float64       \n",
      "dtypes: datetime64[ns](1), float64(5)\n",
      "memory usage: 427.2 KB\n"
     ]
    }
   ],
   "source": [
    "df.info()"
   ]
  },
  {
   "cell_type": "code",
   "execution_count": 9,
   "id": "6badb9f6",
   "metadata": {},
   "outputs": [],
   "source": [
    "df['Date'] = pd.to_datetime(df['Date'])"
   ]
  },
  {
   "cell_type": "code",
   "execution_count": 12,
   "id": "6380fd82",
   "metadata": {},
   "outputs": [
    {
     "data": {
      "text/plain": [
       "[<matplotlib.lines.Line2D at 0x248aa28b820>]"
      ]
     },
     "execution_count": 12,
     "metadata": {},
     "output_type": "execute_result"
    },
    {
     "data": {
      "image/png": "[encoded data removed]",
      "text/plain": [
       "<Figure size 640x480 with 1 Axes>"
      ]
     },
     "metadata": {},
     "output_type": "display_data"
    }
   ],
   "source": [
    "import matplotlib.pyplot as plt\n",
    "\n",
    "plt.plot(df['Date'],df['Close'])"
   ]
  },
  {
   "cell_type": "code",
   "execution_count": 18,
   "id": "9ee7674e",
   "metadata": {},
   "outputs": [],
   "source": [
    "import numpy as np\n",
    "from sklearn.preprocessing import MinMaxScaler\n",
    "#df=df.dropna(axis=0,how='any')"
   ]
  },
  {
   "cell_type": "code",
   "execution_count": 19,
   "id": "dc22a7bd",
   "metadata": {},
   "outputs": [
    {
     "name": "stdout",
     "output_type": "stream",
     "text": [
      "<class 'pandas.core.frame.DataFrame'>\n",
      "Int64Index: 7812 entries, 0 to 7811\n",
      "Data columns (total 6 columns):\n",
      " #   Column  Non-Null Count  Dtype         \n",
      "---  ------  --------------  -----         \n",
      " 0   Date    7812 non-null   datetime64[ns]\n",
      " 1   Open    7812 non-null   float64       \n",
      " 2   High    7812 non-null   float64       \n",
      " 3   Low     7812 non-null   float64       \n",
      " 4   Close   7812 non-null   float64       \n",
      " 5   Volume  7812 non-null   float64       \n",
      "dtypes: datetime64[ns](1), float64(5)\n",
      "memory usage: 427.2 KB\n"
     ]
    }
   ],
   "source": [
    "df.info()"
   ]
  },
  {
   "cell_type": "code",
   "execution_count": 13,
   "id": "33c3df4f",
   "metadata": {},
   "outputs": [],
   "source": [
    "import numpy as np\n",
    "from sklearn.preprocessing import MinMaxScaler\n",
    "df=df.dropna(axis=0,how='any')\n",
    "df1=df['Close']\n",
    "scalar = MinMaxScaler(feature_range=(0,1))\n",
    "df1 = scalar.fit_transform(np.array(df1).reshape(-1,1))"
   ]
  },
  {
   "cell_type": "code",
   "execution_count": 14,
   "id": "78e5fa97",
   "metadata": {},
   "outputs": [
    {
     "data": {
      "text/plain": [
       "array([[0.01064894],\n",
       "       [0.01077619],\n",
       "       [0.01065689],\n",
       "       ...,\n",
       "       [0.99608716],\n",
       "       [0.99766026],\n",
       "       [0.99911407]])"
      ]
     },
     "execution_count": 14,
     "metadata": {},
     "output_type": "execute_result"
    }
   ],
   "source": [
    "df1"
   ]
  },
  {
   "cell_type": "code",
   "execution_count": 21,
   "id": "4cde7514",
   "metadata": {},
   "outputs": [
    {
     "name": "stdout",
     "output_type": "stream",
     "text": [
      "(7812, 1)\n"
     ]
    }
   ],
   "source": [
    "print(df1.shape)"
   ]
  },
  {
   "cell_type": "code",
   "execution_count": 22,
   "id": "6add1a4f",
   "metadata": {},
   "outputs": [],
   "source": [
    "training_size=int(len(df1)*0.65)\n",
    "test_size=len(df1)-training_size\n",
    "train_data,test_data=df1[0:training_size,:],df1[training_size:len(df1),:1]"
   ]
  },
  {
   "cell_type": "code",
   "execution_count": 23,
   "id": "c49a94f0",
   "metadata": {},
   "outputs": [],
   "source": [
    "class StockDataset(Dataset):\n",
    "    def __init__(self,data,seq_len = 100):\n",
    "        self.data = data\n",
    "        self.data = torch.from_numpy(data).float().view(-1)\n",
    "        self.seq_len = seq_len\n",
    "        \n",
    "    def __len__(self):\n",
    "        return len(self.data)-self.seq_len-1\n",
    "\n",
    "    def __getitem__(self, index) :\n",
    "        return  self.data[index : index+self.seq_len] , self.data[index+self.seq_len]\n",
    "\n",
    "\n",
    "train_dataset = StockDataset(train_data) \n",
    "test_dataset = StockDataset(test_data) "
   ]
  },
  {
   "cell_type": "code",
   "execution_count": 24,
   "id": "d329ccdd",
   "metadata": {},
   "outputs": [],
   "source": [
    "batch_size = 64\n",
    "train_dataloader = DataLoader(train_dataset,batch_size,drop_last=True)\n",
    "test_dataloader = DataLoader(test_dataset,batch_size , drop_last=True)\n",
    "\n",
    "device = \"cuda\" if torch.cuda.is_available() else \"cpu\""
   ]
  },
  {
   "cell_type": "code",
   "execution_count": 25,
   "id": "c77ee319",
   "metadata": {},
   "outputs": [],
   "source": [
    "class Lstm_model(nn.Module):\n",
    "    def __init__(self, input_dim , hidden_size , num_layers):\n",
    "        super(Lstm_model, self).__init__()\n",
    "        self.num_layers = num_layers\n",
    "        self.input_size = input_dim\n",
    "        self.hidden_size = hidden_size\n",
    "        self.lstm = nn.LSTM(input_size=input_dim , hidden_size = hidden_size , num_layers= num_layers )\n",
    "        self.fc = nn.Linear(hidden_size,1)\n",
    "\n",
    "    def forward(self,x,hn,cn):\n",
    "        out , (hn,cn) = self.lstm(x , (hn,cn))\n",
    "        final_out = self.fc(out[-1])\n",
    "        return final_out,hn,cn\n",
    "\n",
    "    def predict(self,x):\n",
    "        hn,cn  = self.init()\n",
    "        final_out = self.fc(out[-1])\n",
    "        return final_out\n",
    "\n",
    "    def init(self):\n",
    "        h0 =  torch.zeros(self.num_layers , batch_size , self.hidden_size).to(device)\n",
    "        c0 =  torch.zeros(self.num_layers , batch_size , self.hidden_size).to(device)\n",
    "        return h0 , c0\n",
    "\n",
    "\n",
    "input_dim = 1 \n",
    "hidden_size = 50\n",
    "num_layers = 4\n",
    "\n",
    "model = Lstm_model(input_dim , hidden_size , num_layers).to(device)"
   ]
  },
  {
   "cell_type": "code",
   "execution_count": 26,
   "id": "4d49b60f",
   "metadata": {},
   "outputs": [],
   "source": [
    "loss_fn = nn.MSELoss()\n",
    "optimizer = torch.optim.Adam(model.parameters(), lr=1e-3)"
   ]
  },
  {
   "cell_type": "code",
   "execution_count": 49,
   "id": "a52ccf36",
   "metadata": {},
   "outputs": [],
   "source": [
    "def train(dataloader):\n",
    "    train_loss=[]\n",
    "    hn , cn = model.init()\n",
    "    model.train()\n",
    "    for batch , item in enumerate(dataloader):\n",
    "        x , y = item\n",
    "        x = x.to(device)\n",
    "        y = y.to(device)\n",
    "        out , hn , cn = model(x.reshape(100,batch_size,1),hn,cn)\n",
    "        loss = loss_fn(out.reshape(batch_size) , y)\n",
    "        hn = hn.detach()\n",
    "        cn = cn.detach()\n",
    "        optimizer.zero_grad()\n",
    "        loss.backward()\n",
    "        optimizer.step()\n",
    "        train_loss.append(loss)\n",
    "        if batch == len(dataloader)-1:\n",
    "            loss = loss.item()\n",
    "            print(f\"train loss: {loss:>7f} \")\n",
    "        train_loss.append(loss)    "
   ]
  },
  {
   "cell_type": "code",
   "execution_count": 50,
   "id": "57f4473a",
   "metadata": {},
   "outputs": [],
   "source": [
    "def test(dataloader):\n",
    "    test_loss=[]\n",
    "    hn , cn = model.init()\n",
    "    model.eval()\n",
    "    for batch , item in enumerate(dataloader):\n",
    "        x , y = item\n",
    "        x = x.to(device)\n",
    "        y = y.to(device)\n",
    "        out , hn , cn = model(x.reshape(100,batch_size,1),hn,cn)\n",
    "        loss = loss_fn(out.reshape(batch_size) , y)\n",
    "        test_loss.append(loss)\n",
    "        if batch == len(dataloader)-1:\n",
    "            loss = loss.item()\n",
    "            print(f\"test loss: {loss:>7f} \")\n",
    "        test_loss.append(loss)    "
   ]
  },
  {
   "cell_type": "code",
   "execution_count": 51,
   "id": "4f15e2e5",
   "metadata": {},
   "outputs": [
    {
     "name": "stdout",
     "output_type": "stream",
     "text": [
      "epoch 0 \n",
      "train loss: 0.000670 \n",
      "test loss: 0.610843 \n",
      "epoch 1 \n",
      "train loss: 0.000666 \n",
      "test loss: 0.610699 \n"
     ]
    }
   ],
   "source": [
    "#train_loss=[]\n",
    "#test_loss=[]\n",
    "epochs = 2\n",
    "for epoch in range(epochs):\n",
    "    print(f\"epoch {epoch} \")\n",
    "    train(train_dataloader)\n",
    "    #train_loss.append()\n",
    "    test(test_dataloader)\n",
    "    #test_loss.append(b)"
   ]
  },
  {
   "cell_type": "code",
   "execution_count": 52,
   "id": "5ad3962c",
   "metadata": {},
   "outputs": [
    {
     "name": "stdout",
     "output_type": "stream",
     "text": [
      "train loss : [None, None]\n",
      "val loss :  [None, None, tensor(0.0118, grad_fn=<MseLossBackward0>), tensor(0.0118, grad_fn=<MseLossBackward0>), tensor(0.0135, grad_fn=<MseLossBackward0>), tensor(0.0135, grad_fn=<MseLossBackward0>), tensor(0.0128, grad_fn=<MseLossBackward0>), tensor(0.0128, grad_fn=<MseLossBackward0>), tensor(0.0111, grad_fn=<MseLossBackward0>), tensor(0.0111, grad_fn=<MseLossBackward0>), tensor(0.0108, grad_fn=<MseLossBackward0>), tensor(0.0108, grad_fn=<MseLossBackward0>), tensor(0.0102, grad_fn=<MseLossBackward0>), tensor(0.0102, grad_fn=<MseLossBackward0>), tensor(0.0091, grad_fn=<MseLossBackward0>), tensor(0.0091, grad_fn=<MseLossBackward0>), tensor(0.0090, grad_fn=<MseLossBackward0>), tensor(0.0090, grad_fn=<MseLossBackward0>), tensor(0.0092, grad_fn=<MseLossBackward0>), tensor(0.0092, grad_fn=<MseLossBackward0>), tensor(0.0086, grad_fn=<MseLossBackward0>), tensor(0.0086, grad_fn=<MseLossBackward0>), tensor(0.0073, grad_fn=<MseLossBackward0>), tensor(0.0073, grad_fn=<MseLossBackward0>), tensor(0.0072, grad_fn=<MseLossBackward0>), tensor(0.0072, grad_fn=<MseLossBackward0>), tensor(0.0066, grad_fn=<MseLossBackward0>), tensor(0.0066, grad_fn=<MseLossBackward0>), tensor(0.0058, grad_fn=<MseLossBackward0>), tensor(0.0058, grad_fn=<MseLossBackward0>), tensor(0.0055, grad_fn=<MseLossBackward0>), tensor(0.0055, grad_fn=<MseLossBackward0>), tensor(0.0058, grad_fn=<MseLossBackward0>), tensor(0.0058, grad_fn=<MseLossBackward0>), tensor(0.0058, grad_fn=<MseLossBackward0>), tensor(0.0058, grad_fn=<MseLossBackward0>), tensor(0.0053, grad_fn=<MseLossBackward0>), tensor(0.0053, grad_fn=<MseLossBackward0>), tensor(0.0051, grad_fn=<MseLossBackward0>), tensor(0.0051, grad_fn=<MseLossBackward0>), tensor(0.0041, grad_fn=<MseLossBackward0>), tensor(0.0041, grad_fn=<MseLossBackward0>), tensor(0.0027, grad_fn=<MseLossBackward0>), tensor(0.0027, grad_fn=<MseLossBackward0>), tensor(0.0022, grad_fn=<MseLossBackward0>), tensor(0.0022, grad_fn=<MseLossBackward0>), tensor(0.0020, grad_fn=<MseLossBackward0>), tensor(0.0020, grad_fn=<MseLossBackward0>), tensor(0.0012, grad_fn=<MseLossBackward0>), tensor(0.0012, grad_fn=<MseLossBackward0>), tensor(0.0013, grad_fn=<MseLossBackward0>), tensor(0.0013, grad_fn=<MseLossBackward0>), tensor(0.0007, grad_fn=<MseLossBackward0>), tensor(0.0007, grad_fn=<MseLossBackward0>), tensor(0.0004, grad_fn=<MseLossBackward0>), tensor(0.0004, grad_fn=<MseLossBackward0>), tensor(0.0004, grad_fn=<MseLossBackward0>), tensor(0.0004, grad_fn=<MseLossBackward0>), tensor(3.2146e-05, grad_fn=<MseLossBackward0>), tensor(3.2146e-05, grad_fn=<MseLossBackward0>), tensor(6.5603e-05, grad_fn=<MseLossBackward0>), tensor(6.5603e-05, grad_fn=<MseLossBackward0>), tensor(0.0002, grad_fn=<MseLossBackward0>), tensor(0.0002, grad_fn=<MseLossBackward0>), tensor(0.0005, grad_fn=<MseLossBackward0>), tensor(0.0005, grad_fn=<MseLossBackward0>), tensor(0.0006, grad_fn=<MseLossBackward0>), tensor(0.0006, grad_fn=<MseLossBackward0>), tensor(0.0010, grad_fn=<MseLossBackward0>), tensor(0.0010, grad_fn=<MseLossBackward0>), tensor(0.0046, grad_fn=<MseLossBackward0>), tensor(0.0046, grad_fn=<MseLossBackward0>), tensor(0.0065, grad_fn=<MseLossBackward0>), tensor(0.0065, grad_fn=<MseLossBackward0>), tensor(0.0093, grad_fn=<MseLossBackward0>), tensor(0.0093, grad_fn=<MseLossBackward0>), tensor(0.0219, grad_fn=<MseLossBackward0>), tensor(0.0219, grad_fn=<MseLossBackward0>), tensor(0.0545, grad_fn=<MseLossBackward0>), tensor(0.0545, grad_fn=<MseLossBackward0>), tensor(0.0307, grad_fn=<MseLossBackward0>), tensor(0.0307, grad_fn=<MseLossBackward0>), tensor(0.0345, grad_fn=<MseLossBackward0>), tensor(0.0345, grad_fn=<MseLossBackward0>), tensor(0.0124, grad_fn=<MseLossBackward0>), tensor(0.0124, grad_fn=<MseLossBackward0>), tensor(0.0038, grad_fn=<MseLossBackward0>), tensor(0.0038, grad_fn=<MseLossBackward0>), tensor(0.0018, grad_fn=<MseLossBackward0>), tensor(0.0018, grad_fn=<MseLossBackward0>), tensor(0.0005, grad_fn=<MseLossBackward0>), tensor(0.0005, grad_fn=<MseLossBackward0>), tensor(0.0007, grad_fn=<MseLossBackward0>), tensor(0.0007, grad_fn=<MseLossBackward0>), tensor(0.0003, grad_fn=<MseLossBackward0>), tensor(0.0003, grad_fn=<MseLossBackward0>), tensor(0.0002, grad_fn=<MseLossBackward0>), tensor(0.0002, grad_fn=<MseLossBackward0>), tensor(0.0009, grad_fn=<MseLossBackward0>), tensor(0.0009, grad_fn=<MseLossBackward0>), tensor(0.0004, grad_fn=<MseLossBackward0>), tensor(0.0004, grad_fn=<MseLossBackward0>), tensor(0.0006, grad_fn=<MseLossBackward0>), tensor(0.0006, grad_fn=<MseLossBackward0>), tensor(4.6247e-05, grad_fn=<MseLossBackward0>), tensor(4.6247e-05, grad_fn=<MseLossBackward0>), tensor(0.0002, grad_fn=<MseLossBackward0>), tensor(0.0002, grad_fn=<MseLossBackward0>), tensor(0.0007, grad_fn=<MseLossBackward0>), tensor(0.0007, grad_fn=<MseLossBackward0>), tensor(0.0007, grad_fn=<MseLossBackward0>), tensor(0.0007, grad_fn=<MseLossBackward0>), tensor(0.0005, grad_fn=<MseLossBackward0>), tensor(0.0005, grad_fn=<MseLossBackward0>), tensor(0.0003, grad_fn=<MseLossBackward0>), tensor(0.0003, grad_fn=<MseLossBackward0>), tensor(0.0011, grad_fn=<MseLossBackward0>), tensor(0.0011, grad_fn=<MseLossBackward0>), tensor(0.0006, grad_fn=<MseLossBackward0>), tensor(0.0006, grad_fn=<MseLossBackward0>), tensor(0.0011, grad_fn=<MseLossBackward0>), tensor(0.0011, grad_fn=<MseLossBackward0>), tensor(0.0012, grad_fn=<MseLossBackward0>), tensor(0.0012, grad_fn=<MseLossBackward0>), tensor(0.0020, grad_fn=<MseLossBackward0>), tensor(0.0020, grad_fn=<MseLossBackward0>), tensor(0.0022, grad_fn=<MseLossBackward0>), tensor(0.0022, grad_fn=<MseLossBackward0>), tensor(0.0010, grad_fn=<MseLossBackward0>), tensor(0.0010, grad_fn=<MseLossBackward0>), tensor(0.0021, grad_fn=<MseLossBackward0>), tensor(0.0021, grad_fn=<MseLossBackward0>), tensor(0.0033, grad_fn=<MseLossBackward0>), tensor(0.0033, grad_fn=<MseLossBackward0>), tensor(0.0036, grad_fn=<MseLossBackward0>), tensor(0.0036, grad_fn=<MseLossBackward0>), tensor(0.0046, grad_fn=<MseLossBackward0>), tensor(0.0046, grad_fn=<MseLossBackward0>), tensor(0.0057, grad_fn=<MseLossBackward0>), tensor(0.0057, grad_fn=<MseLossBackward0>), tensor(0.0034, grad_fn=<MseLossBackward0>), tensor(0.0034, grad_fn=<MseLossBackward0>), tensor(0.0024, grad_fn=<MseLossBackward0>), tensor(0.0024, grad_fn=<MseLossBackward0>), tensor(0.0022, grad_fn=<MseLossBackward0>), tensor(0.0022, grad_fn=<MseLossBackward0>), tensor(0.0005, grad_fn=<MseLossBackward0>), tensor(0.0005, grad_fn=<MseLossBackward0>), tensor(0.0006, grad_fn=<MseLossBackward0>), tensor(0.0006, grad_fn=<MseLossBackward0>), tensor(0.0002, grad_fn=<MseLossBackward0>), tensor(0.0002, grad_fn=<MseLossBackward0>), tensor(0.0001, grad_fn=<MseLossBackward0>), tensor(0.0001, grad_fn=<MseLossBackward0>), tensor(0.0007, grad_fn=<MseLossBackward0>), 0.0006698950892314315, tensor(0.0119, grad_fn=<MseLossBackward0>), tensor(0.0119, grad_fn=<MseLossBackward0>), tensor(0.0136, grad_fn=<MseLossBackward0>), tensor(0.0136, grad_fn=<MseLossBackward0>), tensor(0.0129, grad_fn=<MseLossBackward0>), tensor(0.0129, grad_fn=<MseLossBackward0>), tensor(0.0112, grad_fn=<MseLossBackward0>), tensor(0.0112, grad_fn=<MseLossBackward0>), tensor(0.0109, grad_fn=<MseLossBackward0>), tensor(0.0109, grad_fn=<MseLossBackward0>), tensor(0.0103, grad_fn=<MseLossBackward0>), tensor(0.0103, grad_fn=<MseLossBackward0>), tensor(0.0091, grad_fn=<MseLossBackward0>), tensor(0.0091, grad_fn=<MseLossBackward0>), tensor(0.0090, grad_fn=<MseLossBackward0>), tensor(0.0090, grad_fn=<MseLossBackward0>), tensor(0.0093, grad_fn=<MseLossBackward0>), tensor(0.0093, grad_fn=<MseLossBackward0>), tensor(0.0086, grad_fn=<MseLossBackward0>), tensor(0.0086, grad_fn=<MseLossBackward0>), tensor(0.0074, grad_fn=<MseLossBackward0>), tensor(0.0074, grad_fn=<MseLossBackward0>), tensor(0.0072, grad_fn=<MseLossBackward0>), tensor(0.0072, grad_fn=<MseLossBackward0>), tensor(0.0066, grad_fn=<MseLossBackward0>), tensor(0.0066, grad_fn=<MseLossBackward0>), tensor(0.0058, grad_fn=<MseLossBackward0>), tensor(0.0058, grad_fn=<MseLossBackward0>), tensor(0.0054, grad_fn=<MseLossBackward0>), tensor(0.0054, grad_fn=<MseLossBackward0>), tensor(0.0057, grad_fn=<MseLossBackward0>), tensor(0.0057, grad_fn=<MseLossBackward0>), tensor(0.0058, grad_fn=<MseLossBackward0>), tensor(0.0058, grad_fn=<MseLossBackward0>), tensor(0.0053, grad_fn=<MseLossBackward0>), tensor(0.0053, grad_fn=<MseLossBackward0>), tensor(0.0050, grad_fn=<MseLossBackward0>), tensor(0.0050, grad_fn=<MseLossBackward0>), tensor(0.0041, grad_fn=<MseLossBackward0>), tensor(0.0041, grad_fn=<MseLossBackward0>), tensor(0.0026, grad_fn=<MseLossBackward0>), tensor(0.0026, grad_fn=<MseLossBackward0>), tensor(0.0022, grad_fn=<MseLossBackward0>), tensor(0.0022, grad_fn=<MseLossBackward0>), tensor(0.0019, grad_fn=<MseLossBackward0>), tensor(0.0019, grad_fn=<MseLossBackward0>), tensor(0.0012, grad_fn=<MseLossBackward0>), tensor(0.0012, grad_fn=<MseLossBackward0>), tensor(0.0013, grad_fn=<MseLossBackward0>), tensor(0.0013, grad_fn=<MseLossBackward0>), tensor(0.0007, grad_fn=<MseLossBackward0>), tensor(0.0007, grad_fn=<MseLossBackward0>), tensor(0.0004, grad_fn=<MseLossBackward0>), tensor(0.0004, grad_fn=<MseLossBackward0>), tensor(0.0004, grad_fn=<MseLossBackward0>), tensor(0.0004, grad_fn=<MseLossBackward0>), tensor(3.2917e-05, grad_fn=<MseLossBackward0>), tensor(3.2917e-05, grad_fn=<MseLossBackward0>), tensor(6.8152e-05, grad_fn=<MseLossBackward0>), tensor(6.8152e-05, grad_fn=<MseLossBackward0>), tensor(0.0002, grad_fn=<MseLossBackward0>), tensor(0.0002, grad_fn=<MseLossBackward0>), tensor(0.0006, grad_fn=<MseLossBackward0>), tensor(0.0006, grad_fn=<MseLossBackward0>), tensor(0.0006, grad_fn=<MseLossBackward0>), tensor(0.0006, grad_fn=<MseLossBackward0>), tensor(0.0010, grad_fn=<MseLossBackward0>), tensor(0.0010, grad_fn=<MseLossBackward0>), tensor(0.0047, grad_fn=<MseLossBackward0>), tensor(0.0047, grad_fn=<MseLossBackward0>), tensor(0.0065, grad_fn=<MseLossBackward0>), tensor(0.0065, grad_fn=<MseLossBackward0>), tensor(0.0093, grad_fn=<MseLossBackward0>), tensor(0.0093, grad_fn=<MseLossBackward0>), tensor(0.0219, grad_fn=<MseLossBackward0>), tensor(0.0219, grad_fn=<MseLossBackward0>), tensor(0.0546, grad_fn=<MseLossBackward0>), tensor(0.0546, grad_fn=<MseLossBackward0>), tensor(0.0307, grad_fn=<MseLossBackward0>), tensor(0.0307, grad_fn=<MseLossBackward0>), tensor(0.0346, grad_fn=<MseLossBackward0>), tensor(0.0346, grad_fn=<MseLossBackward0>), tensor(0.0124, grad_fn=<MseLossBackward0>), tensor(0.0124, grad_fn=<MseLossBackward0>), tensor(0.0038, grad_fn=<MseLossBackward0>), tensor(0.0038, grad_fn=<MseLossBackward0>), tensor(0.0019, grad_fn=<MseLossBackward0>), tensor(0.0019, grad_fn=<MseLossBackward0>), tensor(0.0005, grad_fn=<MseLossBackward0>), tensor(0.0005, grad_fn=<MseLossBackward0>), tensor(0.0007, grad_fn=<MseLossBackward0>), tensor(0.0007, grad_fn=<MseLossBackward0>), tensor(0.0003, grad_fn=<MseLossBackward0>), tensor(0.0003, grad_fn=<MseLossBackward0>), tensor(0.0002, grad_fn=<MseLossBackward0>), tensor(0.0002, grad_fn=<MseLossBackward0>), tensor(0.0009, grad_fn=<MseLossBackward0>), tensor(0.0009, grad_fn=<MseLossBackward0>), tensor(0.0004, grad_fn=<MseLossBackward0>), tensor(0.0004, grad_fn=<MseLossBackward0>), tensor(0.0006, grad_fn=<MseLossBackward0>), tensor(0.0006, grad_fn=<MseLossBackward0>), tensor(4.5838e-05, grad_fn=<MseLossBackward0>), tensor(4.5838e-05, grad_fn=<MseLossBackward0>), tensor(0.0002, grad_fn=<MseLossBackward0>), tensor(0.0002, grad_fn=<MseLossBackward0>), tensor(0.0007, grad_fn=<MseLossBackward0>), tensor(0.0007, grad_fn=<MseLossBackward0>), tensor(0.0007, grad_fn=<MseLossBackward0>), tensor(0.0007, grad_fn=<MseLossBackward0>), tensor(0.0005, grad_fn=<MseLossBackward0>), tensor(0.0005, grad_fn=<MseLossBackward0>), tensor(0.0003, grad_fn=<MseLossBackward0>), tensor(0.0003, grad_fn=<MseLossBackward0>), tensor(0.0011, grad_fn=<MseLossBackward0>), tensor(0.0011, grad_fn=<MseLossBackward0>), tensor(0.0006, grad_fn=<MseLossBackward0>), tensor(0.0006, grad_fn=<MseLossBackward0>), tensor(0.0011, grad_fn=<MseLossBackward0>), tensor(0.0011, grad_fn=<MseLossBackward0>), tensor(0.0012, grad_fn=<MseLossBackward0>), tensor(0.0012, grad_fn=<MseLossBackward0>), tensor(0.0020, grad_fn=<MseLossBackward0>), tensor(0.0020, grad_fn=<MseLossBackward0>), tensor(0.0023, grad_fn=<MseLossBackward0>), tensor(0.0023, grad_fn=<MseLossBackward0>), tensor(0.0010, grad_fn=<MseLossBackward0>), tensor(0.0010, grad_fn=<MseLossBackward0>), tensor(0.0021, grad_fn=<MseLossBackward0>), tensor(0.0021, grad_fn=<MseLossBackward0>), tensor(0.0034, grad_fn=<MseLossBackward0>), tensor(0.0034, grad_fn=<MseLossBackward0>), tensor(0.0036, grad_fn=<MseLossBackward0>), tensor(0.0036, grad_fn=<MseLossBackward0>), tensor(0.0047, grad_fn=<MseLossBackward0>), tensor(0.0047, grad_fn=<MseLossBackward0>), tensor(0.0057, grad_fn=<MseLossBackward0>), tensor(0.0057, grad_fn=<MseLossBackward0>), tensor(0.0034, grad_fn=<MseLossBackward0>), tensor(0.0034, grad_fn=<MseLossBackward0>), tensor(0.0024, grad_fn=<MseLossBackward0>), tensor(0.0024, grad_fn=<MseLossBackward0>), tensor(0.0022, grad_fn=<MseLossBackward0>), tensor(0.0022, grad_fn=<MseLossBackward0>), tensor(0.0005, grad_fn=<MseLossBackward0>), tensor(0.0005, grad_fn=<MseLossBackward0>), tensor(0.0006, grad_fn=<MseLossBackward0>), tensor(0.0006, grad_fn=<MseLossBackward0>), tensor(0.0002, grad_fn=<MseLossBackward0>), tensor(0.0002, grad_fn=<MseLossBackward0>), tensor(0.0001, grad_fn=<MseLossBackward0>), tensor(0.0001, grad_fn=<MseLossBackward0>), tensor(0.0007, grad_fn=<MseLossBackward0>), 0.0006655262550339103]\n"
     ]
    }
   ],
   "source": [
    "print(\"train loss :\" ,train_loss)\n",
    "print(\"val loss : \",test_loss)"
   ]
  },
  {
   "cell_type": "code",
   "execution_count": 55,
   "id": "2cd96039",
   "metadata": {
    "scrolled": true
   },
   "outputs": [
    {
     "name": "stderr",
     "output_type": "stream",
     "text": [
      "No artists with labels found to put in legend.  Note that artists whose label start with an underscore are ignored when legend() is called with no argument.\n"
     ]
    },
    {
     "data": {
      "image/png": "[encoded data removed]",
      "text/plain": [
       "<Figure size 640x480 with 1 Axes>"
      ]
     },
     "metadata": {},
     "output_type": "display_data"
    }
   ],
   "source": [
    "from matplotlib import pyplot as plt\n",
    "with torch.no_grad():\n",
    "    #plt.plot(train_loss)   \n",
    "    plt.plot(test_loss)\n",
    "    plt.legend()\n",
    "    plt.show()"
   ]
  },
  {
   "cell_type": "code",
   "execution_count": 31,
   "id": "ca769d65",
   "metadata": {},
   "outputs": [],
   "source": [
    "import math\n",
    "from sklearn.metrics import mean_squared_error\n",
    "import numpy as np\n",
    "def calculate_metrics(data_loader):\n",
    "    pred_arr = []\n",
    "    y_arr = []\n",
    "    with torch.no_grad():\n",
    "        hn , cn = model.init()\n",
    "        for batch , item in enumerate(data_loader):\n",
    "            x , y = item\n",
    "            x , y = x.to(device) , y.to(device)\n",
    "            x = x.view(100,64,1)\n",
    "            pred = model(x,hn,cn)[0]\n",
    "            pred = scalar.inverse_transform(pred.detach().cpu().numpy()).reshape(-1)\n",
    "            y = scalar.inverse_transform(y.detach().cpu().numpy().reshape(1,-1)).reshape(-1)\n",
    "            pred_arr = pred_arr + list(pred)\n",
    "            y_arr = y_arr + list(y)\n",
    "        print(pred_arr[130],y_arr[130])\n",
    "        return math.sqrt(mean_squared_error(y_arr,pred_arr))"
   ]
  },
  {
   "cell_type": "code",
   "execution_count": 32,
   "id": "a3d161f7",
   "metadata": {},
   "outputs": [
    {
     "name": "stdout",
     "output_type": "stream",
     "text": [
      "1939.7319 355.1\n",
      "train mse loss 905.3985310348145\n",
      "1941.5354 2704.29\n",
      "test mse loss 4144.436270471534\n"
     ]
    }
   ],
   "source": [
    "# calculating final loss metrics\n",
    "print(f\"train mse loss {calculate_metrics(train_dataloader)}\")\n",
    "print(f\"test mse loss {calculate_metrics(test_dataloader)}\")"
   ]
  },
  {
   "cell_type": "code",
   "execution_count": 8,
   "id": "c7ec09ea",
   "metadata": {},
   "outputs": [
    {
     "data": {
      "text/plain": [
       "0.09961072381335884"
      ]
     },
     "execution_count": 8,
     "metadata": {},
     "output_type": "execute_result"
    }
   ],
   "source": [
    "(1589360000.0 - 1431042700.0)/1589360000\n"
   ]
  },
  {
   "cell_type": "code",
   "execution_count": 33,
   "id": "295ca6f1",
   "metadata": {},
   "outputs": [
    {
     "data": {
      "text/plain": [
       "0.7815387975716653"
      ]
     },
     "execution_count": 33,
     "metadata": {},
     "output_type": "execute_result"
    }
   ],
   "source": [
    "(4144.436270471534 - 905.3985310348145) /4144.436270471534"
   ]
  },
  {
   "cell_type": "code",
   "execution_count": null,
   "id": "c13408c4",
   "metadata": {},
   "outputs": [],
   "source": []
  },
  {
   "cell_type": "code",
   "execution_count": null,
   "id": "83e642ac",
   "metadata": {},
   "outputs": [],
   "source": []
  },
  {
   "cell_type": "code",
   "execution_count": null,
   "id": "a8803a3d",
   "metadata": {},
   "outputs": [],
   "source": []
  },
  {
   "cell_type": "code",
   "execution_count": null,
   "id": "7e43d27b",
   "metadata": {},
   "outputs": [],
   "source": [
    "############ https://github.com/abhinav-TB/Time-Series-Forecasting-Using-LSTM/blob/master/pytorch_lstm_time_series_data.ipynb"
   ]
  }
 ],
 "metadata": {
  "kernelspec": {
   "display_name": "Python 3 (ipykernel)",
   "language": "python",
   "name": "python3"
  },
  "language_info": {
   "codemirror_mode": {
    "name": "ipython",
    "version": 3
   },
   "file_extension": ".py",
   "mimetype": "text/x-python",
   "name": "python",
   "nbconvert_exporter": "python",
   "pygments_lexer": "ipython3",
   "version": "3.9.13"
  }
 },
 "nbformat": 4,
 "nbformat_minor": 5
}
