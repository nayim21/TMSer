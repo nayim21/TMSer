{
 "cells": [
  {
   "cell_type": "code",
   "execution_count": 1,
   "id": "60ab01d7",
   "metadata": {},
   "outputs": [],
   "source": [
    "import math\n",
    "import matplotlib.pyplot as plt\n",
    "import keras\n",
    "import pandas as pd\n",
    "import numpy as np\n",
    "from keras.models import Sequential\n",
    "from keras.layers import Dense\n",
    "from keras.layers import LSTM\n",
    "from keras.layers import Dropout\n",
    "from keras.layers import *\n",
    "from sklearn.preprocessing import MinMaxScaler\n",
    "from sklearn.metrics import mean_squared_error\n",
    "from sklearn.metrics import mean_absolute_error\n",
    "from sklearn.model_selection import train_test_split\n",
    "from keras.callbacks import EarlyStopping"
   ]
  },
  {
   "cell_type": "code",
   "execution_count": 3,
   "id": "1bc526a2",
   "metadata": {},
   "outputs": [
    {
     "name": "stdout",
     "output_type": "stream",
     "text": [
      "(366, 7)\n"
     ]
    },
    {
     "data": {
      "text/html": [
       "<div>\n",
       "<style scoped>\n",
       "    .dataframe tbody tr th:only-of-type {\n",
       "        vertical-align: middle;\n",
       "    }\n",
       "\n",
       "    .dataframe tbody tr th {\n",
       "        vertical-align: top;\n",
       "    }\n",
       "\n",
       "    .dataframe thead th {\n",
       "        text-align: right;\n",
       "    }\n",
       "</style>\n",
       "<table border=\"1\" class=\"dataframe\">\n",
       "  <thead>\n",
       "    <tr style=\"text-align: right;\">\n",
       "      <th></th>\n",
       "      <th>Date</th>\n",
       "      <th>Open</th>\n",
       "      <th>High</th>\n",
       "      <th>Low</th>\n",
       "      <th>Close</th>\n",
       "      <th>Adj Close</th>\n",
       "      <th>Volume</th>\n",
       "    </tr>\n",
       "  </thead>\n",
       "  <tbody>\n",
       "    <tr>\n",
       "      <th>0</th>\n",
       "      <td>7/14/2020</td>\n",
       "      <td>9238.703125</td>\n",
       "      <td>9283.841797</td>\n",
       "      <td>9171.661133</td>\n",
       "      <td>9243.213867</td>\n",
       "      <td>9243.213867</td>\n",
       "      <td>1.808504e+10</td>\n",
       "    </tr>\n",
       "    <tr>\n",
       "      <th>1</th>\n",
       "      <td>7/15/2020</td>\n",
       "      <td>9241.897461</td>\n",
       "      <td>9275.325195</td>\n",
       "      <td>9171.933594</td>\n",
       "      <td>9192.836914</td>\n",
       "      <td>9192.836914</td>\n",
       "      <td>1.584473e+10</td>\n",
       "    </tr>\n",
       "    <tr>\n",
       "      <th>2</th>\n",
       "      <td>7/16/2020</td>\n",
       "      <td>9191.980469</td>\n",
       "      <td>9214.312500</td>\n",
       "      <td>9088.947266</td>\n",
       "      <td>9132.227539</td>\n",
       "      <td>9132.227539</td>\n",
       "      <td>1.571397e+10</td>\n",
       "    </tr>\n",
       "    <tr>\n",
       "      <th>3</th>\n",
       "      <td>7/17/2020</td>\n",
       "      <td>9131.812500</td>\n",
       "      <td>9182.253906</td>\n",
       "      <td>9089.202148</td>\n",
       "      <td>9151.392578</td>\n",
       "      <td>9151.392578</td>\n",
       "      <td>1.394457e+10</td>\n",
       "    </tr>\n",
       "    <tr>\n",
       "      <th>4</th>\n",
       "      <td>7/18/2020</td>\n",
       "      <td>9151.183594</td>\n",
       "      <td>9230.983398</td>\n",
       "      <td>9100.824219</td>\n",
       "      <td>9159.040039</td>\n",
       "      <td>9159.040039</td>\n",
       "      <td>1.225260e+10</td>\n",
       "    </tr>\n",
       "  </tbody>\n",
       "</table>\n",
       "</div>"
      ],
      "text/plain": [
       "        Date         Open         High          Low        Close    Adj Close  \\\n",
       "0  7/14/2020  9238.703125  9283.841797  9171.661133  9243.213867  9243.213867   \n",
       "1  7/15/2020  9241.897461  9275.325195  9171.933594  9192.836914  9192.836914   \n",
       "2  7/16/2020  9191.980469  9214.312500  9088.947266  9132.227539  9132.227539   \n",
       "3  7/17/2020  9131.812500  9182.253906  9089.202148  9151.392578  9151.392578   \n",
       "4  7/18/2020  9151.183594  9230.983398  9100.824219  9159.040039  9159.040039   \n",
       "\n",
       "         Volume  \n",
       "0  1.808504e+10  \n",
       "1  1.584473e+10  \n",
       "2  1.571397e+10  \n",
       "3  1.394457e+10  \n",
       "4  1.225260e+10  "
      ]
     },
     "execution_count": 3,
     "metadata": {},
     "output_type": "execute_result"
    }
   ],
   "source": [
    "df=pd.read_csv(r'D:\\dataset\\BTC-USD.csv')\n",
    "print(df.shape)\n",
    "df.head(5)"
   ]
  },
  {
   "cell_type": "code",
   "execution_count": 4,
   "id": "f9b0028f",
   "metadata": {},
   "outputs": [
    {
     "data": {
      "text/html": [
       "<div>\n",
       "<style scoped>\n",
       "    .dataframe tbody tr th:only-of-type {\n",
       "        vertical-align: middle;\n",
       "    }\n",
       "\n",
       "    .dataframe tbody tr th {\n",
       "        vertical-align: top;\n",
       "    }\n",
       "\n",
       "    .dataframe thead th {\n",
       "        text-align: right;\n",
       "    }\n",
       "</style>\n",
       "<table border=\"1\" class=\"dataframe\">\n",
       "  <thead>\n",
       "    <tr style=\"text-align: right;\">\n",
       "      <th></th>\n",
       "      <th>Date</th>\n",
       "      <th>Open</th>\n",
       "      <th>High</th>\n",
       "      <th>Low</th>\n",
       "      <th>Close</th>\n",
       "      <th>Adj Close</th>\n",
       "      <th>Volume</th>\n",
       "    </tr>\n",
       "  </thead>\n",
       "  <tbody>\n",
       "    <tr>\n",
       "      <th>361</th>\n",
       "      <td>7/10/2021</td>\n",
       "      <td>33811.24219</td>\n",
       "      <td>34209.07031</td>\n",
       "      <td>33116.01172</td>\n",
       "      <td>33520.51953</td>\n",
       "      <td>33520.51953</td>\n",
       "      <td>2.297187e+10</td>\n",
       "    </tr>\n",
       "    <tr>\n",
       "      <th>362</th>\n",
       "      <td>7/11/2021</td>\n",
       "      <td>33509.07813</td>\n",
       "      <td>34584.70313</td>\n",
       "      <td>33346.73828</td>\n",
       "      <td>34240.18750</td>\n",
       "      <td>34240.18750</td>\n",
       "      <td>2.010873e+10</td>\n",
       "    </tr>\n",
       "    <tr>\n",
       "      <th>363</th>\n",
       "      <td>7/12/2021</td>\n",
       "      <td>34254.01563</td>\n",
       "      <td>34592.15625</td>\n",
       "      <td>32697.30859</td>\n",
       "      <td>33155.84766</td>\n",
       "      <td>33155.84766</td>\n",
       "      <td>2.432150e+10</td>\n",
       "    </tr>\n",
       "    <tr>\n",
       "      <th>364</th>\n",
       "      <td>7/13/2021</td>\n",
       "      <td>33125.46875</td>\n",
       "      <td>33327.10156</td>\n",
       "      <td>32261.41992</td>\n",
       "      <td>32702.02539</td>\n",
       "      <td>32702.02539</td>\n",
       "      <td>1.912086e+10</td>\n",
       "    </tr>\n",
       "    <tr>\n",
       "      <th>365</th>\n",
       "      <td>7/14/2021</td>\n",
       "      <td>32707.24023</td>\n",
       "      <td>32744.90625</td>\n",
       "      <td>31748.26953</td>\n",
       "      <td>32528.68945</td>\n",
       "      <td>32528.68945</td>\n",
       "      <td>2.209479e+10</td>\n",
       "    </tr>\n",
       "  </tbody>\n",
       "</table>\n",
       "</div>"
      ],
      "text/plain": [
       "          Date         Open         High          Low        Close  \\\n",
       "361  7/10/2021  33811.24219  34209.07031  33116.01172  33520.51953   \n",
       "362  7/11/2021  33509.07813  34584.70313  33346.73828  34240.18750   \n",
       "363  7/12/2021  34254.01563  34592.15625  32697.30859  33155.84766   \n",
       "364  7/13/2021  33125.46875  33327.10156  32261.41992  32702.02539   \n",
       "365  7/14/2021  32707.24023  32744.90625  31748.26953  32528.68945   \n",
       "\n",
       "       Adj Close        Volume  \n",
       "361  33520.51953  2.297187e+10  \n",
       "362  34240.18750  2.010873e+10  \n",
       "363  33155.84766  2.432150e+10  \n",
       "364  32702.02539  1.912086e+10  \n",
       "365  32528.68945  2.209479e+10  "
      ]
     },
     "execution_count": 4,
     "metadata": {},
     "output_type": "execute_result"
    }
   ],
   "source": [
    "df.tail(5)"
   ]
  },
  {
   "cell_type": "code",
   "execution_count": 5,
   "id": "a3236db9",
   "metadata": {},
   "outputs": [
    {
     "data": {
      "text/plain": [
       "(366,)"
      ]
     },
     "execution_count": 5,
     "metadata": {},
     "output_type": "execute_result"
    }
   ],
   "source": [
    "df1=df.reset_index()['Close']\n",
    "df1.shape"
   ]
  },
  {
   "cell_type": "code",
   "execution_count": 6,
   "id": "c3a42bad",
   "metadata": {},
   "outputs": [
    {
     "data": {
      "text/plain": [
       "[<matplotlib.lines.Line2D at 0x2384204a640>]"
      ]
     },
     "execution_count": 6,
     "metadata": {},
     "output_type": "execute_result"
    },
    {
     "data": {
      "image/png": "[encoded data removed]",
      "text/plain": [
       "<Figure size 640x480 with 1 Axes>"
      ]
     },
     "metadata": {},
     "output_type": "display_data"
    }
   ],
   "source": [
    "plt.plot(df1)"
   ]
  },
  {
   "cell_type": "code",
   "execution_count": 7,
   "id": "6e878d04",
   "metadata": {},
   "outputs": [
    {
     "data": {
      "text/plain": [
       "(366, 1)"
      ]
     },
     "execution_count": 7,
     "metadata": {},
     "output_type": "execute_result"
    }
   ],
   "source": [
    "#MinMaxScaler is used to normalize the data\n",
    "#change dataset into array\n",
    "scaler = MinMaxScaler(feature_range=(0,1))\n",
    "df1 = scaler.fit_transform(np.array(df1).reshape(-1,1))\n",
    "df1.shape"
   ]
  },
  {
   "cell_type": "code",
   "execution_count": 8,
   "id": "c328e1d9",
   "metadata": {},
   "outputs": [
    {
     "data": {
      "text/plain": [
       "array([[2.04126942e-03],\n",
       "       [1.11473247e-03],\n",
       "       [0.00000000e+00],\n",
       "       [3.52484930e-04],\n",
       "       [4.93137644e-04],\n",
       "       [9.85628696e-04],\n",
       "       [5.88618398e-04],\n",
       "       [4.46302499e-03],\n",
       "       [7.23058400e-03],\n",
       "       [8.25518811e-03],\n",
       "       [7.44263175e-03],\n",
       "       [1.00215821e-02],\n",
       "       [1.42159642e-02],\n",
       "       [3.41843568e-02],\n",
       "       [3.27488585e-02],\n",
       "       [3.62000317e-02],\n",
       "       [3.63976748e-02],\n",
       "       [4.03014477e-02],\n",
       "       [4.83227114e-02],\n",
       "       [3.53382982e-02],\n",
       "       [3.88830841e-02],\n",
       "       [3.81390132e-02],\n",
       "       [4.80915173e-02],\n",
       "       [4.86938759e-02],\n",
       "       [4.54145537e-02],\n",
       "       [4.82206929e-02],\n",
       "       [4.67804709e-02],\n",
       "       [5.05025142e-02],\n",
       "       [4.19026362e-02],\n",
       "       [4.51103838e-02],\n",
       "       [4.87741437e-02],\n",
       "       [4.84933590e-02],\n",
       "       [5.02742117e-02],\n",
       "       [5.07727377e-02],\n",
       "       [5.74232886e-02],\n",
       "       [5.25830644e-02],\n",
       "       [4.82986257e-02],\n",
       "       [5.05073098e-02],\n",
       "       [4.52493303e-02],\n",
       "       [4.68924040e-02],\n",
       "       [4.65801518e-02],\n",
       "       [4.85986465e-02],\n",
       "       [4.10862004e-02],\n",
       "       [4.33342369e-02],\n",
       "       [4.03001724e-02],\n",
       "       [4.43299238e-02],\n",
       "       [4.36745263e-02],\n",
       "       [4.74382931e-02],\n",
       "       [4.68739220e-02],\n",
       "       [5.22013390e-02],\n",
       "       [4.19671702e-02],\n",
       "       [2.04716603e-02],\n",
       "       [2.53734549e-02],\n",
       "       [1.90788373e-02],\n",
       "       [2.11163888e-02],\n",
       "       [2.27571816e-02],\n",
       "       [1.83790043e-02],\n",
       "       [2.04174180e-02],\n",
       "       [2.26390159e-02],\n",
       "       [2.33338020e-02],\n",
       "       [2.40925830e-02],\n",
       "       [2.19146841e-02],\n",
       "       [2.84821654e-02],\n",
       "       [3.06177301e-02],\n",
       "       [3.38906762e-02],\n",
       "       [3.34140447e-02],\n",
       "       [3.33330406e-02],\n",
       "       [3.60874521e-02],\n",
       "       [3.32169046e-02],\n",
       "       [2.44620591e-02],\n",
       "       [2.58635391e-02],\n",
       "       [2.01142540e-02],\n",
       "       [2.96723342e-02],\n",
       "       [2.88767151e-02],\n",
       "       [2.98358153e-02],\n",
       "       [3.02034594e-02],\n",
       "       [2.92268471e-02],\n",
       "       [3.15718912e-02],\n",
       "       [3.04460767e-02],\n",
       "       [2.74244772e-02],\n",
       "       [2.67225247e-02],\n",
       "       [2.63607359e-02],\n",
       "       [2.85482080e-02],\n",
       "       [3.07473908e-02],\n",
       "       [2.73938356e-02],\n",
       "       [2.84508773e-02],\n",
       "       [3.29475792e-02],\n",
       "       [           nan],\n",
       "       [3.98029217e-02],\n",
       "       [4.14181199e-02],\n",
       "       [           nan],\n",
       "       [           nan],\n",
       "       [4.22517446e-02],\n",
       "       [4.34627301e-02],\n",
       "       [4.02767333e-02],\n",
       "       [4.09384530e-02],\n",
       "       [4.32422048e-02],\n",
       "       [4.79998263e-02],\n",
       "       [5.12055263e-02],\n",
       "       [6.78936626e-02],\n",
       "       [7.05090559e-02],\n",
       "       [6.98772413e-02],\n",
       "       [7.31238745e-02],\n",
       "       [7.17097319e-02],\n",
       "       [7.25203485e-02],\n",
       "       [8.31688239e-02],\n",
       "       [7.61258787e-02],\n",
       "       [7.91899560e-02],\n",
       "       [8.11880651e-02],\n",
       "       [8.55005050e-02],\n",
       "       [8.46933550e-02],\n",
       "       [8.12610228e-02],\n",
       "       [8.86143883e-02],\n",
       "       [9.19876107e-02],\n",
       "       [1.18585163e-01],\n",
       "       [1.18328266e-01],\n",
       "       [1.04862929e-01],\n",
       "       [1.16740782e-01],\n",
       "       [1.14032512e-01],\n",
       "       [1.13270839e-01],\n",
       "       [1.20819639e-01],\n",
       "       [1.31395157e-01],\n",
       "       [1.32157781e-01],\n",
       "       [1.27565832e-01],\n",
       "       [1.25495789e-01],\n",
       "       [1.39483397e-01],\n",
       "       [1.56575064e-01],\n",
       "       [1.59492040e-01],\n",
       "       [1.59732682e-01],\n",
       "       [1.74524045e-01],\n",
       "       [1.74908770e-01],\n",
       "       [1.69901886e-01],\n",
       "       [1.69793724e-01],\n",
       "       [1.83465362e-01],\n",
       "       [1.76562010e-01],\n",
       "       [1.47474971e-01],\n",
       "       [1.46698445e-01],\n",
       "       [1.57899437e-01],\n",
       "       [1.66361087e-01],\n",
       "       [1.92999285e-01],\n",
       "       [1.77865584e-01],\n",
       "       [1.85187357e-01],\n",
       "       [1.89680664e-01],\n",
       "       [1.75966926e-01],\n",
       "       [1.84325479e-01],\n",
       "       [1.87836355e-01],\n",
       "       [1.85013350e-01],\n",
       "       [1.69003296e-01],\n",
       "       [1.73284448e-01],\n",
       "       [1.67970538e-01],\n",
       "       [1.64180153e-01],\n",
       "       [1.77877690e-01],\n",
       "       [1.84107576e-01],\n",
       "       [1.86025166e-01],\n",
       "       [1.89159758e-01],\n",
       "       [2.23985557e-01],\n",
       "       [2.51473706e-01],\n",
       "       [2.57594569e-01],\n",
       "       [2.71055200e-01],\n",
       "       [2.63835626e-01],\n",
       "       [2.51435449e-01],\n",
       "       [2.69458717e-01],\n",
       "       [2.59496029e-01],\n",
       "       [2.68592817e-01],\n",
       "       [2.85676149e-01],\n",
       "       [3.18271441e-01],\n",
       "       [3.15241490e-01],\n",
       "       [3.30185306e-01],\n",
       "       [3.35291479e-01],\n",
       "       [3.62484457e-01],\n",
       "       [3.65441307e-01],\n",
       "       [3.72291099e-01],\n",
       "       [4.22926615e-01],\n",
       "       [4.34968937e-01],\n",
       "       [4.20069341e-01],\n",
       "       [4.57230826e-01],\n",
       "       [5.09315975e-01],\n",
       "       [5.56154711e-01],\n",
       "       [5.82392235e-01],\n",
       "       [5.72404186e-01],\n",
       "       [5.37494078e-01],\n",
       "       [4.86184126e-01],\n",
       "       [4.55953151e-01],\n",
       "       [5.18364806e-01],\n",
       "       [5.52775813e-01],\n",
       "       [5.09334439e-01],\n",
       "       [4.97430596e-01],\n",
       "       [4.90315375e-01],\n",
       "       [5.05742595e-01],\n",
       "       [4.95438073e-01],\n",
       "       [4.85836401e-01],\n",
       "       [3.98988066e-01],\n",
       "       [4.39083949e-01],\n",
       "       [4.21829987e-01],\n",
       "       [4.25908180e-01],\n",
       "       [4.27324621e-01],\n",
       "       [4.31066619e-01],\n",
       "       [3.91757176e-01],\n",
       "       [4.14141415e-01],\n",
       "       [4.63189069e-01],\n",
       "       [4.62327156e-01],\n",
       "       [4.41081286e-01],\n",
       "       [4.48857759e-01],\n",
       "       [4.85147417e-01],\n",
       "       [5.21229013e-01],\n",
       "       [5.11186507e-01],\n",
       "       [5.33592514e-01],\n",
       "       [5.54222968e-01],\n",
       "       [5.47554546e-01],\n",
       "       [6.81688416e-01],\n",
       "       [6.86923549e-01],\n",
       "       [6.58178165e-01],\n",
       "       [7.13191606e-01],\n",
       "       [7.05752369e-01],\n",
       "       [6.98407751e-01],\n",
       "       [7.28051616e-01],\n",
       "       [7.13848692e-01],\n",
       "       [7.36927304e-01],\n",
       "       [7.91168062e-01],\n",
       "       [7.82538297e-01],\n",
       "       [8.59938348e-01],\n",
       "       [8.63826190e-01],\n",
       "       [8.90318616e-01],\n",
       "       [8.29024710e-01],\n",
       "       [7.30022084e-01],\n",
       "       [7.46223782e-01],\n",
       "       [6.98193224e-01],\n",
       "       [6.84323944e-01],\n",
       "       [6.81541064e-01],\n",
       "       [6.62216807e-01],\n",
       "       [7.44861116e-01],\n",
       "       [7.21829561e-01],\n",
       "       [7.61542732e-01],\n",
       "       [7.25180225e-01],\n",
       "       [7.31914241e-01],\n",
       "       [7.31639796e-01],\n",
       "       [7.73836904e-01],\n",
       "       [7.92961577e-01],\n",
       "       [8.40368888e-01],\n",
       "       [8.62153085e-01],\n",
       "       [8.95195750e-01],\n",
       "       [8.86495721e-01],\n",
       "       [9.58427074e-01],\n",
       "       [9.22732286e-01],\n",
       "       [8.60289019e-01],\n",
       "       [8.76799647e-01],\n",
       "       [9.14797540e-01],\n",
       "       [8.96185258e-01],\n",
       "       [9.05155636e-01],\n",
       "       [9.04548554e-01],\n",
       "       [8.90014715e-01],\n",
       "       [8.34943727e-01],\n",
       "       [8.38802400e-01],\n",
       "       [8.02667854e-01],\n",
       "       [7.82986389e-01],\n",
       "       [8.46129201e-01],\n",
       "       [8.61508644e-01],\n",
       "       [8.61089937e-01],\n",
       "       [8.94185622e-01],\n",
       "       [9.15658232e-01],\n",
       "       [9.15679210e-01],\n",
       "       [9.18934177e-01],\n",
       "       [9.24240364e-01],\n",
       "       [8.91494703e-01],\n",
       "       [9.12731377e-01],\n",
       "       [9.18236572e-01],\n",
       "       [9.02317867e-01],\n",
       "       [8.62895881e-01],\n",
       "       [9.04738150e-01],\n",
       "       [9.03286110e-01],\n",
       "       [9.31761288e-01],\n",
       "       [9.39333868e-01],\n",
       "       [9.33604520e-01],\n",
       "       [1.00000000e+00],\n",
       "       [9.92757903e-01],\n",
       "       [9.96515707e-01],\n",
       "       [9.64491000e-01],\n",
       "       [9.48141016e-01],\n",
       "       [8.65971884e-01],\n",
       "       [8.56924490e-01],\n",
       "       [8.70695847e-01],\n",
       "       [8.23484455e-01],\n",
       "       [7.84055213e-01],\n",
       "       [7.71757880e-01],\n",
       "       [7.52578892e-01],\n",
       "       [7.33329497e-01],\n",
       "       [8.25611758e-01],\n",
       "       [8.44212832e-01],\n",
       "       [8.40379664e-01],\n",
       "       [8.17029195e-01],\n",
       "       [8.94185191e-01],\n",
       "       [8.95617474e-01],\n",
       "       [8.73602658e-01],\n",
       "       [8.84071703e-01],\n",
       "       [8.12954056e-01],\n",
       "       [8.88186284e-01],\n",
       "       [8.69288566e-01],\n",
       "       [8.86942879e-01],\n",
       "       [9.13563115e-01],\n",
       "       [9.03052760e-01],\n",
       "       [8.59417191e-01],\n",
       "       [8.74954404e-01],\n",
       "       [7.36019913e-01],\n",
       "       [7.46423508e-01],\n",
       "       [7.49446132e-01],\n",
       "       [6.92056448e-01],\n",
       "       [6.86462885e-01],\n",
       "       [6.32784737e-01],\n",
       "       [6.21232500e-01],\n",
       "       [5.12591202e-01],\n",
       "       [5.82118724e-01],\n",
       "       [5.18150208e-01],\n",
       "       [5.22416093e-01],\n",
       "       [4.71542666e-01],\n",
       "       [5.43922828e-01],\n",
       "       [5.38336091e-01],\n",
       "       [5.54741395e-01],\n",
       "       [5.38975143e-01],\n",
       "       [4.88592555e-01],\n",
       "       [4.68700802e-01],\n",
       "       [4.88234340e-01],\n",
       "       [5.18668204e-01],\n",
       "       [5.06751429e-01],\n",
       "       [5.23125050e-01],\n",
       "       [5.53170093e-01],\n",
       "       [5.10604211e-01],\n",
       "       [4.85913777e-01],\n",
       "       [4.91623081e-01],\n",
       "       [4.49290548e-01],\n",
       "       [4.47670680e-01],\n",
       "       [5.18893794e-01],\n",
       "       [5.07076452e-01],\n",
       "       [5.18696582e-01],\n",
       "       [4.85924051e-01],\n",
       "       [5.51130297e-01],\n",
       "       [5.71740777e-01],\n",
       "       [5.75194681e-01],\n",
       "       [5.37321580e-01],\n",
       "       [5.31922427e-01],\n",
       "       [4.90241232e-01],\n",
       "       [4.87089290e-01],\n",
       "       [4.88605271e-01],\n",
       "       [4.14639618e-01],\n",
       "       [4.29886042e-01],\n",
       "       [4.52275956e-01],\n",
       "       [4.69553663e-01],\n",
       "       [4.13923907e-01],\n",
       "       [4.24011927e-01],\n",
       "       [4.69318374e-01],\n",
       "       [4.65358401e-01],\n",
       "       [4.91722370e-01],\n",
       "       [4.76513197e-01],\n",
       "       [4.49500405e-01],\n",
       "       [4.55476537e-01],\n",
       "       [4.69666027e-01],\n",
       "       [4.81055035e-01],\n",
       "       [4.52698543e-01],\n",
       "       [4.61695790e-01],\n",
       "       [4.54709243e-01],\n",
       "       [4.36722579e-01],\n",
       "       [4.53655075e-01],\n",
       "       [4.48551416e-01],\n",
       "       [4.61787607e-01],\n",
       "       [4.41844342e-01],\n",
       "       [4.33497607e-01],\n",
       "       [4.30309598e-01]])"
      ]
     },
     "execution_count": 8,
     "metadata": {},
     "output_type": "execute_result"
    }
   ],
   "source": [
    "df1"
   ]
  },
  {
   "cell_type": "markdown",
   "id": "0ff9cc69",
   "metadata": {},
   "source": []
  },
  {
   "cell_type": "code",
   "execution_count": 9,
   "id": "8896e248",
   "metadata": {},
   "outputs": [],
   "source": [
    "#train test split\n",
    "training_size=int(len(df1)*.65)\n",
    "test_size=len(df1)-training_size\n",
    "train_data,test_data=df1[0:training_size],df1[training_size:len(df1)]\n"
   ]
  },
  {
   "cell_type": "code",
   "execution_count": 10,
   "id": "54971dca",
   "metadata": {},
   "outputs": [
    {
     "data": {
      "text/plain": [
       "(237, 1)"
      ]
     },
     "execution_count": 10,
     "metadata": {},
     "output_type": "execute_result"
    }
   ],
   "source": [
    "train_data.shape"
   ]
  },
  {
   "cell_type": "code",
   "execution_count": 11,
   "id": "894b99db",
   "metadata": {},
   "outputs": [
    {
     "data": {
      "text/plain": [
       "(129, 1)"
      ]
     },
     "execution_count": 11,
     "metadata": {},
     "output_type": "execute_result"
    }
   ],
   "source": [
    "test_data.shape"
   ]
  },
  {
   "cell_type": "code",
   "execution_count": 12,
   "id": "33529bdd",
   "metadata": {},
   "outputs": [],
   "source": [
    "import numpy\n",
    "#convert array to dataset matrix\n",
    "def create_dataset(dataset,time_step=1):\n",
    "    dataX,dataY=[],[]\n",
    "    for i in range(len(dataset)-time_step-1):\n",
    "        a = dataset[i:(i+time_step),0]\n",
    "        dataX.append(a)\n",
    "        dataY.append(dataset[i+time_step,0])\n",
    "    return numpy.array(dataX),numpy.array(dataY)"
   ]
  },
  {
   "cell_type": "code",
   "execution_count": 13,
   "id": "62803ce3",
   "metadata": {},
   "outputs": [],
   "source": [
    "#reshape into x= t,t+1,t+2 ,t+3 and y=t+4\n",
    "time_step=5\n",
    "X_train,y_train=create_dataset(train_data,time_step)\n",
    "X_test,y_test=create_dataset(test_data,time_step)"
   ]
  },
  {
   "cell_type": "code",
   "execution_count": 14,
   "id": "232a8a51",
   "metadata": {},
   "outputs": [
    {
     "name": "stdout",
     "output_type": "stream",
     "text": [
      "[[2.04126942e-03 1.11473247e-03 0.00000000e+00 3.52484930e-04\n",
      "  4.93137644e-04]\n",
      " [1.11473247e-03 0.00000000e+00 3.52484930e-04 4.93137644e-04\n",
      "  9.85628696e-04]\n",
      " [0.00000000e+00 3.52484930e-04 4.93137644e-04 9.85628696e-04\n",
      "  5.88618398e-04]\n",
      " ...\n",
      " [6.81541064e-01 6.62216807e-01 7.44861116e-01 7.21829561e-01\n",
      "  7.61542732e-01]\n",
      " [6.62216807e-01 7.44861116e-01 7.21829561e-01 7.61542732e-01\n",
      "  7.25180225e-01]\n",
      " [7.44861116e-01 7.21829561e-01 7.61542732e-01 7.25180225e-01\n",
      "  7.31914241e-01]]\n"
     ]
    }
   ],
   "source": [
    "print(X_train)"
   ]
  },
  {
   "cell_type": "code",
   "execution_count": 15,
   "id": "de748548",
   "metadata": {},
   "outputs": [
    {
     "name": "stdout",
     "output_type": "stream",
     "text": [
      "(231, 5)\n"
     ]
    }
   ],
   "source": [
    "print(X_train.shape)"
   ]
  },
  {
   "cell_type": "code",
   "execution_count": 16,
   "id": "ac51d008",
   "metadata": {},
   "outputs": [
    {
     "name": "stdout",
     "output_type": "stream",
     "text": [
      "[9.85628696e-04 5.88618398e-04 4.46302499e-03 7.23058400e-03\n",
      " 8.25518811e-03 7.44263175e-03 1.00215821e-02 1.42159642e-02\n",
      " 3.41843568e-02 3.27488585e-02 3.62000317e-02 3.63976748e-02\n",
      " 4.03014477e-02 4.83227114e-02 3.53382982e-02 3.88830841e-02\n",
      " 3.81390132e-02 4.80915173e-02 4.86938759e-02 4.54145537e-02\n",
      " 4.82206929e-02 4.67804709e-02 5.05025142e-02 4.19026362e-02\n",
      " 4.51103838e-02 4.87741437e-02 4.84933590e-02 5.02742117e-02\n",
      " 5.07727377e-02 5.74232886e-02 5.25830644e-02 4.82986257e-02\n",
      " 5.05073098e-02 4.52493303e-02 4.68924040e-02 4.65801518e-02\n",
      " 4.85986465e-02 4.10862004e-02 4.33342369e-02 4.03001724e-02\n",
      " 4.43299238e-02 4.36745263e-02 4.74382931e-02 4.68739220e-02\n",
      " 5.22013390e-02 4.19671702e-02 2.04716603e-02 2.53734549e-02\n",
      " 1.90788373e-02 2.11163888e-02 2.27571816e-02 1.83790043e-02\n",
      " 2.04174180e-02 2.26390159e-02 2.33338020e-02 2.40925830e-02\n",
      " 2.19146841e-02 2.84821654e-02 3.06177301e-02 3.38906762e-02\n",
      " 3.34140447e-02 3.33330406e-02 3.60874521e-02 3.32169046e-02\n",
      " 2.44620591e-02 2.58635391e-02 2.01142540e-02 2.96723342e-02\n",
      " 2.88767151e-02 2.98358153e-02 3.02034594e-02 2.92268471e-02\n",
      " 3.15718912e-02 3.04460767e-02 2.74244772e-02 2.67225247e-02\n",
      " 2.63607359e-02 2.85482080e-02 3.07473908e-02 2.73938356e-02\n",
      " 2.84508773e-02 3.29475792e-02            nan 3.98029217e-02\n",
      " 4.14181199e-02            nan            nan 4.22517446e-02\n",
      " 4.34627301e-02 4.02767333e-02 4.09384530e-02 4.32422048e-02\n",
      " 4.79998263e-02 5.12055263e-02 6.78936626e-02 7.05090559e-02\n",
      " 6.98772413e-02 7.31238745e-02 7.17097319e-02 7.25203485e-02\n",
      " 8.31688239e-02 7.61258787e-02 7.91899560e-02 8.11880651e-02\n",
      " 8.55005050e-02 8.46933550e-02 8.12610228e-02 8.86143883e-02\n",
      " 9.19876107e-02 1.18585163e-01 1.18328266e-01 1.04862929e-01\n",
      " 1.16740782e-01 1.14032512e-01 1.13270839e-01 1.20819639e-01\n",
      " 1.31395157e-01 1.32157781e-01 1.27565832e-01 1.25495789e-01\n",
      " 1.39483397e-01 1.56575064e-01 1.59492040e-01 1.59732682e-01\n",
      " 1.74524045e-01 1.74908770e-01 1.69901886e-01 1.69793724e-01\n",
      " 1.83465362e-01 1.76562010e-01 1.47474971e-01 1.46698445e-01\n",
      " 1.57899437e-01 1.66361087e-01 1.92999285e-01 1.77865584e-01\n",
      " 1.85187357e-01 1.89680664e-01 1.75966926e-01 1.84325479e-01\n",
      " 1.87836355e-01 1.85013350e-01 1.69003296e-01 1.73284448e-01\n",
      " 1.67970538e-01 1.64180153e-01 1.77877690e-01 1.84107576e-01\n",
      " 1.86025166e-01 1.89159758e-01 2.23985557e-01 2.51473706e-01\n",
      " 2.57594569e-01 2.71055200e-01 2.63835626e-01 2.51435449e-01\n",
      " 2.69458717e-01 2.59496029e-01 2.68592817e-01 2.85676149e-01\n",
      " 3.18271441e-01 3.15241490e-01 3.30185306e-01 3.35291479e-01\n",
      " 3.62484457e-01 3.65441307e-01 3.72291099e-01 4.22926615e-01\n",
      " 4.34968937e-01 4.20069341e-01 4.57230826e-01 5.09315975e-01\n",
      " 5.56154711e-01 5.82392235e-01 5.72404186e-01 5.37494078e-01\n",
      " 4.86184126e-01 4.55953151e-01 5.18364806e-01 5.52775813e-01\n",
      " 5.09334439e-01 4.97430596e-01 4.90315375e-01 5.05742595e-01\n",
      " 4.95438073e-01 4.85836401e-01 3.98988066e-01 4.39083949e-01\n",
      " 4.21829987e-01 4.25908180e-01 4.27324621e-01 4.31066619e-01\n",
      " 3.91757176e-01 4.14141415e-01 4.63189069e-01 4.62327156e-01\n",
      " 4.41081286e-01 4.48857759e-01 4.85147417e-01 5.21229013e-01\n",
      " 5.11186507e-01 5.33592514e-01 5.54222968e-01 5.47554546e-01\n",
      " 6.81688416e-01 6.86923549e-01 6.58178165e-01 7.13191606e-01\n",
      " 7.05752369e-01 6.98407751e-01 7.28051616e-01 7.13848692e-01\n",
      " 7.36927304e-01 7.91168062e-01 7.82538297e-01 8.59938348e-01\n",
      " 8.63826190e-01 8.90318616e-01 8.29024710e-01 7.30022084e-01\n",
      " 7.46223782e-01 6.98193224e-01 6.84323944e-01 6.81541064e-01\n",
      " 6.62216807e-01 7.44861116e-01 7.21829561e-01 7.61542732e-01\n",
      " 7.25180225e-01 7.31914241e-01 7.31639796e-01]\n"
     ]
    }
   ],
   "source": [
    "print(y_train)"
   ]
  },
  {
   "cell_type": "code",
   "execution_count": 17,
   "id": "a8abf4c7",
   "metadata": {},
   "outputs": [
    {
     "name": "stdout",
     "output_type": "stream",
     "text": [
      "(231,)\n"
     ]
    }
   ],
   "source": [
    "print(y_train.shape)"
   ]
  },
  {
   "cell_type": "code",
   "execution_count": 18,
   "id": "8ea703a0",
   "metadata": {},
   "outputs": [],
   "source": [
    "#reshape input to sample,time step ,feature\n",
    "X_train=X_train.reshape(X_train.shape[0],X_train.shape[1],1)\n",
    "X_test=X_test.reshape(X_test.shape[0],X_test.shape[1],1)"
   ]
  },
  {
   "cell_type": "code",
   "execution_count": 19,
   "id": "59abcde3",
   "metadata": {},
   "outputs": [
    {
     "data": {
      "text/plain": [
       "array([[[2.04126942e-03],\n",
       "        [1.11473247e-03],\n",
       "        [0.00000000e+00],\n",
       "        [3.52484930e-04],\n",
       "        [4.93137644e-04]],\n",
       "\n",
       "       [[1.11473247e-03],\n",
       "        [0.00000000e+00],\n",
       "        [3.52484930e-04],\n",
       "        [4.93137644e-04],\n",
       "        [9.85628696e-04]],\n",
       "\n",
       "       [[0.00000000e+00],\n",
       "        [3.52484930e-04],\n",
       "        [4.93137644e-04],\n",
       "        [9.85628696e-04],\n",
       "        [5.88618398e-04]],\n",
       "\n",
       "       ...,\n",
       "\n",
       "       [[6.81541064e-01],\n",
       "        [6.62216807e-01],\n",
       "        [7.44861116e-01],\n",
       "        [7.21829561e-01],\n",
       "        [7.61542732e-01]],\n",
       "\n",
       "       [[6.62216807e-01],\n",
       "        [7.44861116e-01],\n",
       "        [7.21829561e-01],\n",
       "        [7.61542732e-01],\n",
       "        [7.25180225e-01]],\n",
       "\n",
       "       [[7.44861116e-01],\n",
       "        [7.21829561e-01],\n",
       "        [7.61542732e-01],\n",
       "        [7.25180225e-01],\n",
       "        [7.31914241e-01]]])"
      ]
     },
     "execution_count": 19,
     "metadata": {},
     "output_type": "execute_result"
    }
   ],
   "source": [
    "X_train\n"
   ]
  },
  {
   "cell_type": "code",
   "execution_count": 20,
   "id": "4b658086",
   "metadata": {},
   "outputs": [],
   "source": [
    "model=Sequential()\n",
    "model.add(LSTM(50,return_sequences=True,input_shape=(5,1)))\n",
    "model.add(LSTM(50,return_sequences=True))\n",
    "model.add(LSTM(50))\n",
    "model.add(Dense(1))\n",
    "model.compile(loss='mean_squared_error',optimizer='adam')"
   ]
  },
  {
   "cell_type": "code",
   "execution_count": 21,
   "id": "2bbc8ec9",
   "metadata": {},
   "outputs": [
    {
     "name": "stdout",
     "output_type": "stream",
     "text": [
      "Model: \"sequential\"\n",
      "_________________________________________________________________\n",
      " Layer (type)                Output Shape              Param #   \n",
      "=================================================================\n",
      " lstm (LSTM)                 (None, 5, 50)             10400     \n",
      "                                                                 \n",
      " lstm_1 (LSTM)               (None, 5, 50)             20200     \n",
      "                                                                 \n",
      " lstm_2 (LSTM)               (None, 50)                20200     \n",
      "                                                                 \n",
      " dense (Dense)               (None, 1)                 51        \n",
      "                                                                 \n",
      "=================================================================\n",
      "Total params: 50,851\n",
      "Trainable params: 50,851\n",
      "Non-trainable params: 0\n",
      "_________________________________________________________________\n"
     ]
    }
   ],
   "source": [
    "model.summary()"
   ]
  },
  {
   "cell_type": "code",
   "execution_count": 22,
   "id": "30a24c06",
   "metadata": {},
   "outputs": [
    {
     "name": "stdout",
     "output_type": "stream",
     "text": [
      "Epoch 1/20\n",
      "4/4 [==============================] - 14s 752ms/step - loss: nan - val_loss: nan\n",
      "Epoch 2/20\n",
      "4/4 [==============================] - 0s 45ms/step - loss: nan - val_loss: nan\n",
      "Epoch 3/20\n",
      "4/4 [==============================] - 0s 42ms/step - loss: nan - val_loss: nan\n",
      "Epoch 4/20\n",
      "4/4 [==============================] - 0s 36ms/step - loss: nan - val_loss: nan\n",
      "Epoch 5/20\n",
      "4/4 [==============================] - 0s 35ms/step - loss: nan - val_loss: nan\n",
      "Epoch 6/20\n",
      "4/4 [==============================] - 0s 40ms/step - loss: nan - val_loss: nan\n",
      "Epoch 7/20\n",
      "4/4 [==============================] - 0s 42ms/step - loss: nan - val_loss: nan\n",
      "Epoch 8/20\n",
      "4/4 [==============================] - 0s 46ms/step - loss: nan - val_loss: nan\n",
      "Epoch 9/20\n",
      "4/4 [==============================] - 0s 43ms/step - loss: nan - val_loss: nan\n",
      "Epoch 10/20\n",
      "4/4 [==============================] - 0s 40ms/step - loss: nan - val_loss: nan\n",
      "Epoch 11/20\n",
      "4/4 [==============================] - 0s 44ms/step - loss: nan - val_loss: nan\n",
      "Epoch 12/20\n",
      "4/4 [==============================] - 0s 43ms/step - loss: nan - val_loss: nan\n",
      "Epoch 13/20\n",
      "4/4 [==============================] - 0s 35ms/step - loss: nan - val_loss: nan\n",
      "Epoch 14/20\n",
      "4/4 [==============================] - 0s 44ms/step - loss: nan - val_loss: nan\n",
      "Epoch 15/20\n",
      "4/4 [==============================] - 0s 44ms/step - loss: nan - val_loss: nan\n",
      "Epoch 16/20\n",
      "4/4 [==============================] - 0s 39ms/step - loss: nan - val_loss: nan\n",
      "Epoch 17/20\n",
      "4/4 [==============================] - 0s 37ms/step - loss: nan - val_loss: nan\n",
      "Epoch 18/20\n",
      "4/4 [==============================] - 0s 45ms/step - loss: nan - val_loss: nan\n",
      "Epoch 19/20\n",
      "4/4 [==============================] - 0s 47ms/step - loss: nan - val_loss: nan\n",
      "Epoch 20/20\n",
      "4/4 [==============================] - 0s 50ms/step - loss: nan - val_loss: nan\n"
     ]
    },
    {
     "data": {
      "text/plain": [
       "<keras.callbacks.History at 0x2384441da60>"
      ]
     },
     "execution_count": 22,
     "metadata": {},
     "output_type": "execute_result"
    }
   ],
   "source": [
    "model.fit(X_train,y_train,validation_data=(X_test,y_test),epochs=20,batch_size=64,verbose=1)"
   ]
  },
  {
   "cell_type": "code",
   "execution_count": 23,
   "id": "239ec1e7",
   "metadata": {},
   "outputs": [
    {
     "name": "stdout",
     "output_type": "stream",
     "text": [
      "8/8 [==============================] - 3s 10ms/step\n",
      "4/4 [==============================] - 0s 8ms/step\n"
     ]
    }
   ],
   "source": [
    "train_predict=model.predict(X_train)\n",
    "test_predict=model.predict(X_test)"
   ]
  },
  {
   "cell_type": "code",
   "execution_count": 24,
   "id": "48d3eb7f",
   "metadata": {},
   "outputs": [],
   "source": [
    "train_predict=scaler.inverse_transform(train_predict)\n",
    "test_predict=scaler.inverse_transform(test_predict)"
   ]
  },
  {
   "cell_type": "code",
   "execution_count": 25,
   "id": "adb3e3ef",
   "metadata": {},
   "outputs": [],
   "source": [
    "import math\n",
    "from sklearn.metrics import mean_squared_error\n",
    "#math.sqrt(mean_squared_error(y_train,train_predict))"
   ]
  },
  {
   "cell_type": "code",
   "execution_count": 26,
   "id": "e1de1255",
   "metadata": {},
   "outputs": [
    {
     "data": {
      "image/png": "[encoded data removed]",
      "text/plain": [
       "<Figure size 640x480 with 1 Axes>"
      ]
     },
     "metadata": {},
     "output_type": "display_data"
    }
   ],
   "source": [
    "#plotting\n",
    "look_back=5\n",
    "trainPredictPlot=numpy.empty_like(df1)\n",
    "trainPredictPlot[:,:]=np.nan\n",
    "trainPredictPlot[look_back:len(train_predict)+look_back,:]=train_predict\n",
    "#shift test pediction for plotting\n",
    "testPredictPlot=numpy.empty_like(df1)\n",
    "testPredictPlot[:,:]=np.nan\n",
    "testPredictPlot[len(train_predict)+(look_back*2)+1:len(df1)-1,:]=test_predict\n",
    "#plot base line and predict\n",
    "plt.plot(scaler.inverse_transform(df1))\n",
    "\n",
    "plt.plot(trainPredictPlot)\n",
    "plt.show()\n"
   ]
  },
  {
   "cell_type": "code",
   "execution_count": null,
   "id": "43618070",
   "metadata": {},
   "outputs": [],
   "source": []
  }
 ],
 "metadata": {
  "kernelspec": {
   "display_name": "Python 3 (ipykernel)",
   "language": "python",
   "name": "python3"
  },
  "language_info": {
   "codemirror_mode": {
    "name": "ipython",
    "version": 3
   },
   "file_extension": ".py",
   "mimetype": "text/x-python",
   "name": "python",
   "nbconvert_exporter": "python",
   "pygments_lexer": "ipython3",
   "version": "3.9.13"
  }
 },
 "nbformat": 4,
 "nbformat_minor": 5
}
